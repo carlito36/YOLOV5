{
  "nbformat": 4,
  "nbformat_minor": 0,
  "metadata": {
    "colab": {
      "provenance": [],
      "collapsed_sections": [],
      "machine_shape": "hm"
    },
    "kernelspec": {
      "name": "python3",
      "display_name": "Python 3"
    },
    "language_info": {
      "name": "python"
    },
    "gpuClass": "standard"
  },
  "cells": [
    {
      "cell_type": "markdown",
      "source": [
        "# Install & Import"
      ],
      "metadata": {
        "id": "_XcDRtx2jTWH"
      }
    },
    {
      "cell_type": "code",
      "source": [
        "from google.colab import drive\n",
        "drive.mount('/content/gdrive')"
      ],
      "metadata": {
        "id": "96FnndntkQdX",
        "colab": {
          "base_uri": "https://localhost:8080/"
        },
        "outputId": "bfece0e9-218b-4d15-e170-b9cca56f7767"
      },
      "execution_count": null,
      "outputs": [
        {
          "output_type": "stream",
          "name": "stdout",
          "text": [
            "Mounted at /content/gdrive\n"
          ]
        }
      ]
    },
    {
      "cell_type": "code",
      "source": [
        "import torch\n",
        "import os\n",
        "from os import walk, getcwd\n",
        "import shutil\n",
        "import random\n",
        "import numpy as np\n",
        "\n",
        "from sklearn.model_selection import train_test_split\n",
        "\n",
        "from tqdm import tqdm\n",
        "\n",
        "from glob import glob\n",
        "\n",
        "import yaml\n",
        "import json\n",
        "\n",
        "from IPython.display import Image\n",
        "\n",
        "from pathlib import Path\n",
        "import cv2"
      ],
      "metadata": {
        "id": "4vILj1CdUD4K"
      },
      "execution_count": null,
      "outputs": []
    },
    {
      "cell_type": "code",
      "source": [
        "!pip install -U PyYAML"
      ],
      "metadata": {
        "colab": {
          "base_uri": "https://localhost:8080/",
          "height": 315
        },
        "id": "jZYfptFCAwXz",
        "outputId": "617eee11-e6a8-4c33-d89b-0e8e2ab85832"
      },
      "execution_count": null,
      "outputs": [
        {
          "output_type": "stream",
          "name": "stdout",
          "text": [
            "Looking in indexes: https://pypi.org/simple, https://us-python.pkg.dev/colab-wheels/public/simple/\n",
            "Requirement already satisfied: PyYAML in /usr/local/lib/python3.7/dist-packages (3.13)\n",
            "Collecting PyYAML\n",
            "  Downloading PyYAML-6.0-cp37-cp37m-manylinux_2_5_x86_64.manylinux1_x86_64.manylinux_2_12_x86_64.manylinux2010_x86_64.whl (596 kB)\n",
            "\u001b[K     |████████████████████████████████| 596 kB 31.8 MB/s \n",
            "\u001b[?25hInstalling collected packages: PyYAML\n",
            "  Attempting uninstall: PyYAML\n",
            "    Found existing installation: PyYAML 3.13\n",
            "    Uninstalling PyYAML-3.13:\n",
            "      Successfully uninstalled PyYAML-3.13\n",
            "Successfully installed PyYAML-6.0\n"
          ]
        },
        {
          "output_type": "display_data",
          "data": {
            "application/vnd.colab-display-data+json": {
              "pip_warning": {
                "packages": [
                  "yaml"
                ]
              }
            }
          },
          "metadata": {}
        }
      ]
    },
    {
      "cell_type": "code",
      "source": [
        "!pip install wandb"
      ],
      "metadata": {
        "id": "ncrBMByfR_vy",
        "colab": {
          "base_uri": "https://localhost:8080/"
        },
        "outputId": "f27a19a8-c880-4ae6-eb13-c8c0a4d6c6b2"
      },
      "execution_count": null,
      "outputs": [
        {
          "output_type": "stream",
          "name": "stdout",
          "text": [
            "Looking in indexes: https://pypi.org/simple, https://us-python.pkg.dev/colab-wheels/public/simple/\n",
            "Collecting wandb\n",
            "  Downloading wandb-0.12.21-py2.py3-none-any.whl (1.8 MB)\n",
            "\u001b[K     |████████████████████████████████| 1.8 MB 33.6 MB/s \n",
            "\u001b[?25hRequirement already satisfied: promise<3,>=2.0 in /usr/local/lib/python3.7/dist-packages (from wandb) (2.3)\n",
            "Collecting GitPython>=1.0.0\n",
            "  Downloading GitPython-3.1.27-py3-none-any.whl (181 kB)\n",
            "\u001b[K     |████████████████████████████████| 181 kB 73.6 MB/s \n",
            "\u001b[?25hCollecting sentry-sdk>=1.0.0\n",
            "  Downloading sentry_sdk-1.7.2-py2.py3-none-any.whl (147 kB)\n",
            "\u001b[K     |████████████████████████████████| 147 kB 66.9 MB/s \n",
            "\u001b[?25hCollecting setproctitle\n",
            "  Downloading setproctitle-1.2.3-cp37-cp37m-manylinux_2_5_x86_64.manylinux1_x86_64.manylinux_2_17_x86_64.manylinux2014_x86_64.whl (29 kB)\n",
            "Requirement already satisfied: requests<3,>=2.0.0 in /usr/local/lib/python3.7/dist-packages (from wandb) (2.23.0)\n",
            "Requirement already satisfied: protobuf<4.0dev,>=3.12.0 in /usr/local/lib/python3.7/dist-packages (from wandb) (3.17.3)\n",
            "Requirement already satisfied: PyYAML in /usr/local/lib/python3.7/dist-packages (from wandb) (6.0)\n",
            "Requirement already satisfied: setuptools in /usr/local/lib/python3.7/dist-packages (from wandb) (57.4.0)\n",
            "Collecting docker-pycreds>=0.4.0\n",
            "  Downloading docker_pycreds-0.4.0-py2.py3-none-any.whl (9.0 kB)\n",
            "Requirement already satisfied: Click!=8.0.0,>=7.0 in /usr/local/lib/python3.7/dist-packages (from wandb) (7.1.2)\n",
            "Requirement already satisfied: psutil>=5.0.0 in /usr/local/lib/python3.7/dist-packages (from wandb) (5.4.8)\n",
            "Collecting pathtools\n",
            "  Downloading pathtools-0.1.2.tar.gz (11 kB)\n",
            "Requirement already satisfied: six>=1.13.0 in /usr/local/lib/python3.7/dist-packages (from wandb) (1.15.0)\n",
            "Collecting shortuuid>=0.5.0\n",
            "  Downloading shortuuid-1.0.9-py3-none-any.whl (9.4 kB)\n",
            "Collecting gitdb<5,>=4.0.1\n",
            "  Downloading gitdb-4.0.9-py3-none-any.whl (63 kB)\n",
            "\u001b[K     |████████████████████████████████| 63 kB 1.9 MB/s \n",
            "\u001b[?25hRequirement already satisfied: typing-extensions>=3.7.4.3 in /usr/local/lib/python3.7/dist-packages (from GitPython>=1.0.0->wandb) (4.1.1)\n",
            "Collecting smmap<6,>=3.0.1\n",
            "  Downloading smmap-5.0.0-py3-none-any.whl (24 kB)\n",
            "Requirement already satisfied: idna<3,>=2.5 in /usr/local/lib/python3.7/dist-packages (from requests<3,>=2.0.0->wandb) (2.10)\n",
            "Requirement already satisfied: certifi>=2017.4.17 in /usr/local/lib/python3.7/dist-packages (from requests<3,>=2.0.0->wandb) (2022.6.15)\n",
            "Requirement already satisfied: urllib3!=1.25.0,!=1.25.1,<1.26,>=1.21.1 in /usr/local/lib/python3.7/dist-packages (from requests<3,>=2.0.0->wandb) (1.24.3)\n",
            "Requirement already satisfied: chardet<4,>=3.0.2 in /usr/local/lib/python3.7/dist-packages (from requests<3,>=2.0.0->wandb) (3.0.4)\n",
            "Building wheels for collected packages: pathtools\n",
            "  Building wheel for pathtools (setup.py) ... \u001b[?25l\u001b[?25hdone\n",
            "  Created wheel for pathtools: filename=pathtools-0.1.2-py3-none-any.whl size=8806 sha256=50059340b2aea9d0d9409db7e048b72f4bf548b5e66812074202268902a228fe\n",
            "  Stored in directory: /root/.cache/pip/wheels/3e/31/09/fa59cef12cdcfecc627b3d24273699f390e71828921b2cbba2\n",
            "Successfully built pathtools\n",
            "Installing collected packages: smmap, gitdb, shortuuid, setproctitle, sentry-sdk, pathtools, GitPython, docker-pycreds, wandb\n",
            "Successfully installed GitPython-3.1.27 docker-pycreds-0.4.0 gitdb-4.0.9 pathtools-0.1.2 sentry-sdk-1.7.2 setproctitle-1.2.3 shortuuid-1.0.9 smmap-5.0.0 wandb-0.12.21\n"
          ]
        }
      ]
    },
    {
      "cell_type": "markdown",
      "source": [
        "# YOLO V5 설치"
      ],
      "metadata": {
        "id": "pXz5MoWC1JHe"
      }
    },
    {
      "cell_type": "code",
      "source": [
        "!git clone https://github.com/ultralytics/yolov5  # clone\n",
        "%cd yolov5\n",
        "%pip install -qr requirements.txt  # install\n",
        "\n"
      ],
      "metadata": {
        "id": "CvZ7OPXMjS8l",
        "colab": {
          "base_uri": "https://localhost:8080/"
        },
        "outputId": "b7041925-b23c-4ec9-a8d7-9d5e05d32e73"
      },
      "execution_count": null,
      "outputs": [
        {
          "output_type": "stream",
          "name": "stdout",
          "text": [
            "Cloning into 'yolov5'...\n",
            "remote: Enumerating objects: 12805, done.\u001b[K\n",
            "remote: Counting objects: 100% (86/86), done.\u001b[K\n",
            "remote: Compressing objects: 100% (46/46), done.\u001b[K\n",
            "remote: Total 12805 (delta 48), reused 70 (delta 40), pack-reused 12719\u001b[K\n",
            "Receiving objects: 100% (12805/12805), 12.36 MiB | 17.60 MiB/s, done.\n",
            "Resolving deltas: 100% (8805/8805), done.\n",
            "/content/yolov5\n"
          ]
        }
      ]
    },
    {
      "cell_type": "markdown",
      "source": [
        "# Custom Dataset 정리"
      ],
      "metadata": {
        "id": "t_YG_u3d1MJj"
      }
    },
    {
      "cell_type": "code",
      "source": [
        "## Unzip Image File\n",
        "%cd /content/gdrive/MyDrive/Colab Notebooks/YOLO V5\n",
        "!unzip -qq \"/content/gdrive/MyDrive/Colab Notebooks/YOLO V5/MergedDataset.zip\" ## Folder 6개가 생김\n",
        "print('Complete!')"
      ],
      "metadata": {
        "colab": {
          "base_uri": "https://localhost:8080/"
        },
        "id": "NyVv-jaWTso-",
        "outputId": "e8943673-94a5-402a-de91-334f85340f70"
      },
      "execution_count": null,
      "outputs": [
        {
          "output_type": "stream",
          "name": "stdout",
          "text": [
            "/content/gdrive/MyDrive/Colab Notebooks/YOLO V5\n",
            "replace train.txt? [y]es, [n]o, [A]ll, [N]one, [r]ename: N\n",
            "N\n",
            "\n",
            "train/images/MP_SEL_107122.jpg:  write error (disk full?).  Continue? (y/n/^C) \n",
            "warning:  train/images/MP_SEL_107122.jpg is probably truncated\n",
            "Complete!\n"
          ]
        }
      ]
    },
    {
      "cell_type": "code",
      "source": [
        "\n",
        "## Unzip Image File\n",
        "%cd /content/gdrive/MyDrive/Colab Notebooks/YOLO V5\n",
        "!unzip -qq \"/content/gdrive/MyDrive/Colab Notebooks/YOLO V5/bus_for_blinds.zip\" ## Folder 6개가 생김\n",
        "print('Complete!')"
      ],
      "metadata": {
        "id": "3kIPha8wjS6R",
        "colab": {
          "base_uri": "https://localhost:8080/"
        },
        "outputId": "fd6d2f3f-31b9-4cba-a914-d3d646fc6d11"
      },
      "execution_count": null,
      "outputs": [
        {
          "output_type": "stream",
          "name": "stdout",
          "text": [
            "/content/gdrive/MyDrive/Colab Notebooks/YOLO V5\n",
            "replace README.dataset.txt? [y]es, [n]o, [A]ll, [N]one, [r]ename: y\n",
            "replace README.roboflow.txt? [y]es, [n]o, [A]ll, [N]one, [r]ename: y\n",
            "replace train/00e8299fba5b8b9503d5ea65884cb01e9dfed3e6b9974c84a2c124bb3d3be086f7cf45dffb257a331268a67ae88b1495108c67d59c42a291f34247c0d86cd4389d8e6a09d1fb1df3605cb23eace6d984297534e1d66a583ca8cc558e4340bc8e8675851454a9a91_png.rf.24e11475ef2dca0e8056ea4c530ae899.jpg? [y]es, [n]o, [A]ll, [N]one, [r]ename: n\n",
            "replace train/00e8299fba5b8b9503d5ea65884cb01e9dfed3e6b9974c84a2c124bb3d3be086f7cf45dffb257a331268a67ae88b1495108c67d59c42a291f34247c0d86cd4389d8e6a09d1fb1df3605cb23eace6d984297534e1d66a583ca8cc558e4340bc8e8675851454a9a91_png.rf.6e715e75f429221e73752c93dcadb54c.jpg? [y]es, [n]o, [A]ll, [N]one, [r]ename: n\n",
            "replace train/00e8299fba5b8b9503d5ea65884cb01e9dfed3e6b9974c84a2c124bb3d3be086f7cf45dffb257a331268a67ae88b1495108c67d59c42a291f34247c0d86cd4389d8e6a09d1fb1df3605cb23eace6d984297534e1d66a583ca8cc558e4340bc8e8675851454a9a91_png.rf.f36d91bf8d584c069959db98f0c08b34.jpg? [y]es, [n]o, [A]ll, [N]one, [r]ename: n\n",
            "replace train/0364acc75486f37d84a9f2de96aef47ff6b818ac39371f3b7aa70ed0cb4fe049c2d7f3ea295ae2959c90cd64e38af743e1cd627286b8bbc519c98cae531e0e16bab01ecd14cc79fff1212ba1f058129cc2c0b0caacc5bb76659494dde301f10e0acaf6f026ad_jpg.rf.00729df26a42aa89287fea8fc6aebd4f.jpg? [y]es, [n]o, [A]ll, [N]one, [r]ename: n\n",
            "replace train/0364acc75486f37d84a9f2de96aef47ff6b818ac39371f3b7aa70ed0cb4fe049c2d7f3ea295ae2959c90cd64e38af743e1cd627286b8bbc519c98cae531e0e16bab01ecd14cc79fff1212ba1f058129cc2c0b0caacc5bb76659494dde301f10e0acaf6f026ad_jpg.rf.83490832a3b5856b34ab97aa04920093.jpg? [y]es, [n]o, [A]ll, [N]one, [r]ename: n\n",
            "replace train/0364acc75486f37d84a9f2de96aef47ff6b818ac39371f3b7aa70ed0cb4fe049c2d7f3ea295ae2959c90cd64e38af743e1cd627286b8bbc519c98cae531e0e16bab01ecd14cc79fff1212ba1f058129cc2c0b0caacc5bb76659494dde301f10e0acaf6f026ad_jpg.rf.f5ee0e34b1a48e9e464144b25806e14b.jpg? [y]es, [n]o, [A]ll, [N]one, [r]ename: n\n",
            "replace train/03dc9719605ce8c2425bc05b9c88a35001b1818e4ab4de41e8878d125404ac647ef0c8e2910d05f7c7c8de440878814ad38d7def5344c9b47f28b9828c2627473cd81c9c7ac3f9aaa03edc3e6b53429540d1d5180368141dd9e78e87567d7ac6ad61f030d0b25611_png.rf.13fbef1c91fc55bb263b94ad77f8abe3.jpg? [y]es, [n]o, [A]ll, [N]one, [r]ename: n\n",
            "replace train/03dc9719605ce8c2425bc05b9c88a35001b1818e4ab4de41e8878d125404ac647ef0c8e2910d05f7c7c8de440878814ad38d7def5344c9b47f28b9828c2627473cd81c9c7ac3f9aaa03edc3e6b53429540d1d5180368141dd9e78e87567d7ac6ad61f030d0b25611_png.rf.3582dd213f0f620081621c906f54f193.jpg? [y]es, [n]o, [A]ll, [N]one, [r]ename: n\n",
            "replace train/03dc9719605ce8c2425bc05b9c88a35001b1818e4ab4de41e8878d125404ac647ef0c8e2910d05f7c7c8de440878814ad38d7def5344c9b47f28b9828c2627473cd81c9c7ac3f9aaa03edc3e6b53429540d1d5180368141dd9e78e87567d7ac6ad61f030d0b25611_png.rf.da84f4445770e9c8fdf416190c485809.jpg? [y]es, [n]o, [A]ll, [N]one, [r]ename: n\n",
            "replace train/05df6cf290dd4237364c6a03cb82b2ee8b2511855da096bab26223035221f2cd13931d8d6c7563eaf64910a4163ffafbbc6b2f071cd925c3a813b376f471671cb892eae3de2ae143eb9a08effe38b104c84ab44e01ba525bbf199cbb65ad2dc6f1c6a64e3feeaf4_png.rf.19c96b1e6d41f2da0424ac5160cc232d.jpg? [y]es, [n]o, [A]ll, [N]one, [r]ename: n\n",
            "replace train/05df6cf290dd4237364c6a03cb82b2ee8b2511855da096bab26223035221f2cd13931d8d6c7563eaf64910a4163ffafbbc6b2f071cd925c3a813b376f471671cb892eae3de2ae143eb9a08effe38b104c84ab44e01ba525bbf199cbb65ad2dc6f1c6a64e3feeaf4_png.rf.de91be251de71e3c0f2b3a7e605e50fc.jpg? [y]es, [n]o, [A]ll, [N]one, [r]ename: n\n",
            "replace train/05df6cf290dd4237364c6a03cb82b2ee8b2511855da096bab26223035221f2cd13931d8d6c7563eaf64910a4163ffafbbc6b2f071cd925c3a813b376f471671cb892eae3de2ae143eb9a08effe38b104c84ab44e01ba525bbf199cbb65ad2dc6f1c6a64e3feeaf4_png.rf.e646da5ec796cdfa4ee841d0b19d9866.jpg? [y]es, [n]o, [A]ll, [N]one, [r]ename: n\n",
            "replace train/05ea88940ac815fa888b77271dea4891224af25568dd36dd7f711e8e0f8a95fc9838aa4b44f76eaf42986b9d5cdc2ac7ebddc6432673a5d386728e215e14b468adab8b59a7dc9a45ee7f67ca0943801a4da3aa3294100f6921327e6833d7bafa_png.rf.127267c7584ccc0d4a3fcf84ab671fad.jpg? [y]es, [n]o, [A]ll, [N]one, [r]ename: n\n",
            "replace train/05ea88940ac815fa888b77271dea4891224af25568dd36dd7f711e8e0f8a95fc9838aa4b44f76eaf42986b9d5cdc2ac7ebddc6432673a5d386728e215e14b468adab8b59a7dc9a45ee7f67ca0943801a4da3aa3294100f6921327e6833d7bafa_png.rf.346b0d302fb85bfc5cfec592a82d6e34.jpg? [y]es, [n]o, [A]ll, [N]one, [r]ename: \n",
            "error:  invalid response [{ENTER}]\n",
            "replace train/05ea88940ac815fa888b77271dea4891224af25568dd36dd7f711e8e0f8a95fc9838aa4b44f76eaf42986b9d5cdc2ac7ebddc6432673a5d386728e215e14b468adab8b59a7dc9a45ee7f67ca0943801a4da3aa3294100f6921327e6833d7bafa_png.rf.346b0d302fb85bfc5cfec592a82d6e34.jpg? [y]es, [n]o, [A]ll, [N]one, [r]ename: n\n",
            "replace train/05ea88940ac815fa888b77271dea4891224af25568dd36dd7f711e8e0f8a95fc9838aa4b44f76eaf42986b9d5cdc2ac7ebddc6432673a5d386728e215e14b468adab8b59a7dc9a45ee7f67ca0943801a4da3aa3294100f6921327e6833d7bafa_png.rf.4cd8d3ce0e04f44dda65e0436895c45b.jpg? [y]es, [n]o, [A]ll, [N]one, [r]ename: n\n",
            "replace train/0966a4b5c49d5a14df335b880506d41de1f1fb4a6077311b09f5dfa145f843079ccf681719acc753b06d256b3229cc3db479531fd9ee404574980390d82f04cc6486523e2da48a316444e0ac6ebc0f6df0030f54cfe6653d7058e7ecb41212024ad64223af5ee0f_png.rf.3775c6df1eec8121eab39425067c8937.jpg? [y]es, [n]o, [A]ll, [N]one, [r]ename: n\n",
            "replace train/0966a4b5c49d5a14df335b880506d41de1f1fb4a6077311b09f5dfa145f843079ccf681719acc753b06d256b3229cc3db479531fd9ee404574980390d82f04cc6486523e2da48a316444e0ac6ebc0f6df0030f54cfe6653d7058e7ecb41212024ad64223af5ee0f_png.rf.b41fef6e62d40ddd8cb9741bdbeb8300.jpg? [y]es, [n]o, [A]ll, [N]one, [r]ename: n\n",
            "replace train/0966a4b5c49d5a14df335b880506d41de1f1fb4a6077311b09f5dfa145f843079ccf681719acc753b06d256b3229cc3db479531fd9ee404574980390d82f04cc6486523e2da48a316444e0ac6ebc0f6df0030f54cfe6653d7058e7ecb41212024ad64223af5ee0f_png.rf.cd3ba00ad7a9320fcba174bc969d3be4.jpg? [y]es, [n]o, [A]ll, [N]one, [r]ename: n\n",
            "replace train/096ae1c5d5bb53747a7dd67ff119f8d4c5dcf61540082c8de6f8c6ec77ab933273f989b0bc0dadd07274e02d96e19c907a986b7f799ad7bc8e320c5261779181b531b66ca976f66c60bc898ac7b6178bc2cc00b2391d3d2f3df3a92ecb7a9e6c1e2b691c1eb75f21_png.rf.2bd0ca72e47945e58bcbdaf94d2ecaa2.jpg? [y]es, [n]o, [A]ll, [N]one, [r]ename: n\n",
            "replace train/096ae1c5d5bb53747a7dd67ff119f8d4c5dcf61540082c8de6f8c6ec77ab933273f989b0bc0dadd07274e02d96e19c907a986b7f799ad7bc8e320c5261779181b531b66ca976f66c60bc898ac7b6178bc2cc00b2391d3d2f3df3a92ecb7a9e6c1e2b691c1eb75f21_png.rf.4707a4547d5bea76fce56cad6cb484bb.jpg? [y]es, [n]o, [A]ll, [N]one, [r]ename: n\n",
            "replace train/096ae1c5d5bb53747a7dd67ff119f8d4c5dcf61540082c8de6f8c6ec77ab933273f989b0bc0dadd07274e02d96e19c907a986b7f799ad7bc8e320c5261779181b531b66ca976f66c60bc898ac7b6178bc2cc00b2391d3d2f3df3a92ecb7a9e6c1e2b691c1eb75f21_png.rf.cb089ae5d9b576ef84368ec7c01cccd9.jpg? [y]es, [n]o, [A]ll, [N]one, [r]ename: n\n",
            "replace train/0b44103438120f78b9e43587350fbaa66a66116212a4de89ee435c511b3dbb67d5fc6258303a11bf3c4a19402540d7789e261a95424107b39264c5f8d6194298f360a6ec3e70e17af15cba93063f594314c6411de684c0c9311917e55967d342596a34f180567be_png.rf.3c18fb886414b7264bfe36bcff1d9877.jpg? [y]es, [n]o, [A]ll, [N]one, [r]ename: n\n",
            "replace train/0b44103438120f78b9e43587350fbaa66a66116212a4de89ee435c511b3dbb67d5fc6258303a11bf3c4a19402540d7789e261a95424107b39264c5f8d6194298f360a6ec3e70e17af15cba93063f594314c6411de684c0c9311917e55967d342596a34f180567be_png.rf.a8e5cef531a6b8b4c119ff5f1f6da4bb.jpg? [y]es, [n]o, [A]ll, [N]one, [r]ename: n\n",
            "replace train/0b44103438120f78b9e43587350fbaa66a66116212a4de89ee435c511b3dbb67d5fc6258303a11bf3c4a19402540d7789e261a95424107b39264c5f8d6194298f360a6ec3e70e17af15cba93063f594314c6411de684c0c9311917e55967d342596a34f180567be_png.rf.f349eec8325642b2c65f3606be4fe957.jpg? [y]es, [n]o, [A]ll, [N]one, [r]ename: n\n",
            "replace train/0b58598793e43c13099a1e329d09c48b5b4c90f5f5a22f006c18eea5b7e3fb06abac8415f3c0f96a3749479337dd05d36acb7aee41b3dea8b760a98daba3b373b13b3f73fd003cd8b8d355ecbdd8f9a9e949628e527c1386b7793817ddf4338265555a4d473f870_png.rf.2c5305606ec2c6d7d13bd9627d52cd31.jpg? [y]es, [n]o, [A]ll, [N]one, [r]ename: n\n",
            "replace train/0b58598793e43c13099a1e329d09c48b5b4c90f5f5a22f006c18eea5b7e3fb06abac8415f3c0f96a3749479337dd05d36acb7aee41b3dea8b760a98daba3b373b13b3f73fd003cd8b8d355ecbdd8f9a9e949628e527c1386b7793817ddf4338265555a4d473f870_png.rf.3a3015e44340ef3f201003650effce4d.jpg? [y]es, [n]o, [A]ll, [N]one, [r]ename: n\n",
            "replace train/0b58598793e43c13099a1e329d09c48b5b4c90f5f5a22f006c18eea5b7e3fb06abac8415f3c0f96a3749479337dd05d36acb7aee41b3dea8b760a98daba3b373b13b3f73fd003cd8b8d355ecbdd8f9a9e949628e527c1386b7793817ddf4338265555a4d473f870_png.rf.90ae4337cc2a2bc94f61f88c0eaeb489.jpg? [y]es, [n]o, [A]ll, [N]one, [r]ename: n\n",
            "replace train/0c1d8a9076536f646bc09a3a8ac1cadd9e56323c7afbc75ea97d319fd864c127529698199be8c5d9db190204cc0240a8cfba1e8bf3886d9b3fd26ad34f6352c4be37bde6acf4ea79d9fbc9c61de32025b74337f094f6a4c1b73dbd022fc221f810f7dae4a7b6651_png.rf.100ec36fcab0c902075c6a55e80680e1.jpg? [y]es, [n]o, [A]ll, [N]one, [r]ename: n\n",
            "replace train/0c1d8a9076536f646bc09a3a8ac1cadd9e56323c7afbc75ea97d319fd864c127529698199be8c5d9db190204cc0240a8cfba1e8bf3886d9b3fd26ad34f6352c4be37bde6acf4ea79d9fbc9c61de32025b74337f094f6a4c1b73dbd022fc221f810f7dae4a7b6651_png.rf.419724b8cc8d0b3b1ad38989712305fe.jpg? [y]es, [n]o, [A]ll, [N]one, [r]ename: n\n",
            "replace train/0c1d8a9076536f646bc09a3a8ac1cadd9e56323c7afbc75ea97d319fd864c127529698199be8c5d9db190204cc0240a8cfba1e8bf3886d9b3fd26ad34f6352c4be37bde6acf4ea79d9fbc9c61de32025b74337f094f6a4c1b73dbd022fc221f810f7dae4a7b6651_png.rf.eed0b93fe1fd372dc455be183400e1bd.jpg? [y]es, [n]o, [A]ll, [N]one, [r]ename: n\n",
            "replace train/0ce0429ccbe829e19de802421b497259da0afb76fa7f40af8634d21b339f551541497718320d02e7b9c22d0c7d6f2b30c11ff9f6a3066ffd5482c5e5c03d2157e568e3fc21f2483413530bc3ef3d3d740af972ef443fd898328dc7af3b4587f597d693ebb14db5d_png.rf.40aac0108c28ab49f34cd8e812cb78b2.jpg? [y]es, [n]o, [A]ll, [N]one, [r]ename: n\n",
            "replace train/0ce0429ccbe829e19de802421b497259da0afb76fa7f40af8634d21b339f551541497718320d02e7b9c22d0c7d6f2b30c11ff9f6a3066ffd5482c5e5c03d2157e568e3fc21f2483413530bc3ef3d3d740af972ef443fd898328dc7af3b4587f597d693ebb14db5d_png.rf.5362f501cad5d43b1a79fa2fe6e2d2c4.jpg? [y]es, [n]o, [A]ll, [N]one, [r]ename: n\n",
            "replace train/0ce0429ccbe829e19de802421b497259da0afb76fa7f40af8634d21b339f551541497718320d02e7b9c22d0c7d6f2b30c11ff9f6a3066ffd5482c5e5c03d2157e568e3fc21f2483413530bc3ef3d3d740af972ef443fd898328dc7af3b4587f597d693ebb14db5d_png.rf.bb15c112c1bcb8a02d78be7d9a380db0.jpg? [y]es, [n]o, [A]ll, [N]one, [r]ename: n\n",
            "replace train/0cf48eab88195a34894f685e72959a715a6248abff94fd125fa6ed572c4cfe30cf8359aa14c1e65b111f7a082e4bcda27b6bd6e192859c40cf605e2f58d4cb559b710d71340ba6a0481d594f054f3b8dadf1151e7d75cf140ad5df1f855d9af62a56ce7b5380d5a3_png.rf.03aaf8db692e378c8ae0cb650c92f608.jpg? [y]es, [n]o, [A]ll, [N]one, [r]ename: n\n",
            "replace train/0cf48eab88195a34894f685e72959a715a6248abff94fd125fa6ed572c4cfe30cf8359aa14c1e65b111f7a082e4bcda27b6bd6e192859c40cf605e2f58d4cb559b710d71340ba6a0481d594f054f3b8dadf1151e7d75cf140ad5df1f855d9af62a56ce7b5380d5a3_png.rf.509c6c205eb0f36fba4661185bed2fec.jpg? [y]es, [n]o, [A]ll, [N]one, [r]ename: \n",
            "error:  invalid response [{ENTER}]\n",
            "replace train/0cf48eab88195a34894f685e72959a715a6248abff94fd125fa6ed572c4cfe30cf8359aa14c1e65b111f7a082e4bcda27b6bd6e192859c40cf605e2f58d4cb559b710d71340ba6a0481d594f054f3b8dadf1151e7d75cf140ad5df1f855d9af62a56ce7b5380d5a3_png.rf.509c6c205eb0f36fba4661185bed2fec.jpg? [y]es, [n]o, [A]ll, [N]one, [r]ename: nn\n",
            "replace train/0cf48eab88195a34894f685e72959a715a6248abff94fd125fa6ed572c4cfe30cf8359aa14c1e65b111f7a082e4bcda27b6bd6e192859c40cf605e2f58d4cb559b710d71340ba6a0481d594f054f3b8dadf1151e7d75cf140ad5df1f855d9af62a56ce7b5380d5a3_png.rf.aa382a6385601153cc2421594354d191.jpg? [y]es, [n]o, [A]ll, [N]one, [r]ename: n\n",
            "replace train/0d0eec55b67270f0090f824a682ee32d2c9400a1d687198ba683ee8c3684193248e49191d6d2e171ce4bd3c17ac89c5adaffdd9f7c5856ddd6b3df96592121c4dd616a92667b9df573869f81cd101ea380100c0fe4ac4cdefa79dd13e1872f57acb3d6ed629d1f7_png.rf.483a0119915471252cd7be8fbd0546c7.jpg? [y]es, [n]o, [A]ll, [N]one, [r]ename: n\n",
            "replace train/0d0eec55b67270f0090f824a682ee32d2c9400a1d687198ba683ee8c3684193248e49191d6d2e171ce4bd3c17ac89c5adaffdd9f7c5856ddd6b3df96592121c4dd616a92667b9df573869f81cd101ea380100c0fe4ac4cdefa79dd13e1872f57acb3d6ed629d1f7_png.rf.b004bcf94b74c054776c54838a892860.jpg? [y]es, [n]o, [A]ll, [N]one, [r]ename: n\n",
            "n\n",
            "replace train/0d0eec55b67270f0090f824a682ee32d2c9400a1d687198ba683ee8c3684193248e49191d6d2e171ce4bd3c17ac89c5adaffdd9f7c5856ddd6b3df96592121c4dd616a92667b9df573869f81cd101ea380100c0fe4ac4cdefa79dd13e1872f57acb3d6ed629d1f7_png.rf.c521ac600a891f8ced5358242c1bfa6d.jpg? [y]es, [n]o, [A]ll, [N]one, [r]ename: replace train/0d46e7f408f0abd6038cc37276382fc2a35_jpg.rf.1851e1f19f4c7cb73224f1db27a5d28a.jpg? [y]es, [n]o, [A]ll, [N]one, [r]ename: n\n",
            "replace train/0d46e7f408f0abd6038cc37276382fc2a35_jpg.rf.4660876e2ee49a4a61d2a2d7c467fbb6.jpg? [y]es, [n]o, [A]ll, [N]one, [r]ename: n\n",
            "replace train/0d46e7f408f0abd6038cc37276382fc2a35_jpg.rf.ff139cd54c14cf86656961772b3650f5.jpg? [y]es, [n]o, [A]ll, [N]one, [r]ename: n\n",
            "replace train/0d6f4cabef94363014f7d0e358073c55127fbd482cfb5f8152072790b3635713594c815f3ffdbf819a4fc6edd03d3490b0e6863e4e6e197963e735fa70e2c2974896db387596eaef0b562bd07c3686bec22ef80260c1d5e3aca12fa72d87cb94_png.rf.1a166a036e5152656f9bf8c17c4508fe.jpg? [y]es, [n]o, [A]ll, [N]one, [r]ename: n\n",
            "n\n",
            "replace train/0d6f4cabef94363014f7d0e358073c55127fbd482cfb5f8152072790b3635713594c815f3ffdbf819a4fc6edd03d3490b0e6863e4e6e197963e735fa70e2c2974896db387596eaef0b562bd07c3686bec22ef80260c1d5e3aca12fa72d87cb94_png.rf.392efa28d0700d659be3f7bf1c0fe462.jpg? [y]es, [n]o, [A]ll, [N]one, [r]ename: replace train/0d6f4cabef94363014f7d0e358073c55127fbd482cfb5f8152072790b3635713594c815f3ffdbf819a4fc6edd03d3490b0e6863e4e6e197963e735fa70e2c2974896db387596eaef0b562bd07c3686bec22ef80260c1d5e3aca12fa72d87cb94_png.rf.e8a09b54180f84f54d9718e736235d1d.jpg? [y]es, [n]o, [A]ll, [N]one, [r]ename: n\n",
            "replace train/0f3efb0dff0550d5f3390036970c520410d2840055e9922b0a86bef6070e38ecdd7294838837d0d9605578b2868b1ab14aad6976cecfd212fe97e05c11816857154728d5cb674cb392a5a3c81c619a59f65d3c8e3e6cc5852117cb8e95be645e3b76731227ec976_png.rf.2a482ca61175e1a60cc3130743e5c912.jpg? [y]es, [n]o, [A]ll, [N]one, [r]ename: n\n",
            "replace train/0f3efb0dff0550d5f3390036970c520410d2840055e9922b0a86bef6070e38ecdd7294838837d0d9605578b2868b1ab14aad6976cecfd212fe97e05c11816857154728d5cb674cb392a5a3c81c619a59f65d3c8e3e6cc5852117cb8e95be645e3b76731227ec976_png.rf.b013d22b269dedf3d297e32ed845dca5.jpg? [y]es, [n]o, [A]ll, [N]one, [r]ename: n\n",
            "replace train/0f3efb0dff0550d5f3390036970c520410d2840055e9922b0a86bef6070e38ecdd7294838837d0d9605578b2868b1ab14aad6976cecfd212fe97e05c11816857154728d5cb674cb392a5a3c81c619a59f65d3c8e3e6cc5852117cb8e95be645e3b76731227ec976_png.rf.c6a4486e2808b4fdd9cea07cb86fbf0a.jpg? [y]es, [n]o, [A]ll, [N]one, [r]ename: n\n",
            "replace train/11f15fbdf8b1d04e2ddb74f5789ed75b18181149ec91082a867bd830c75ad8db84e700419ef36e442bba67651da190c57cccf1bc78471895c355dfda2d6448ed29e4cd9ee3bfa25cb11446184257eb86702429fda45270794bcb08aada689261155442bea3_png.rf.2bb2d1df9407e828642b7392eb0ef1b7.jpg? [y]es, [n]o, [A]ll, [N]one, [r]ename: n\n",
            "replace train/11f15fbdf8b1d04e2ddb74f5789ed75b18181149ec91082a867bd830c75ad8db84e700419ef36e442bba67651da190c57cccf1bc78471895c355dfda2d6448ed29e4cd9ee3bfa25cb11446184257eb86702429fda45270794bcb08aada689261155442bea3_png.rf.a07d1941ed0171c5cf7cbc990e523c18.jpg? [y]es, [n]o, [A]ll, [N]one, [r]ename: n\n",
            "replace train/11f15fbdf8b1d04e2ddb74f5789ed75b18181149ec91082a867bd830c75ad8db84e700419ef36e442bba67651da190c57cccf1bc78471895c355dfda2d6448ed29e4cd9ee3bfa25cb11446184257eb86702429fda45270794bcb08aada689261155442bea3_png.rf.e1a5c1ab50075918c97347bb091cce65.jpg? [y]es, [n]o, [A]ll, [N]one, [r]ename: n\n",
            "replace train/1200px-Seoul_Bus_Route_262_jpg.rf.10fd3c83cac224fca3c4fb54d05431e6.jpg? [y]es, [n]o, [A]ll, [N]one, [r]ename: n\n",
            "n\n",
            "replace train/1200px-Seoul_Bus_Route_262_jpg.rf.4ad96659f6d10ce2684a520360dccfe5.jpg? [y]es, [n]o, [A]ll, [N]one, [r]ename: replace train/1200px-Seoul_Bus_Route_262_jpg.rf.997f1fd50b5841c18399b6bb2aa9a227.jpg? [y]es, [n]o, [A]ll, [N]one, [r]ename: n\n",
            "replace train/12124efd49ec39e60d91813956c0509837fefae64bf7bacda98db9b13715b2433cc1305563af7ffe5531b3d599e540565f3be650cdef8bfc49af7a25e242713ab5fbb4e5180a4e281935e0cb62cba70c2567cb5401eb8f5218d56df4d317ef2c_png.rf.2cf4fd35ac9baf9ecbc51f68d36e6e6e.jpg? [y]es, [n]o, [A]ll, [N]one, [r]ename: n\n",
            "replace train/12124efd49ec39e60d91813956c0509837fefae64bf7bacda98db9b13715b2433cc1305563af7ffe5531b3d599e540565f3be650cdef8bfc49af7a25e242713ab5fbb4e5180a4e281935e0cb62cba70c2567cb5401eb8f5218d56df4d317ef2c_png.rf.43a78fd7f37d4359b9e2d12f9b99add9.jpg? [y]es, [n]o, [A]ll, [N]one, [r]ename: n\n",
            "replace train/12124efd49ec39e60d91813956c0509837fefae64bf7bacda98db9b13715b2433cc1305563af7ffe5531b3d599e540565f3be650cdef8bfc49af7a25e242713ab5fbb4e5180a4e281935e0cb62cba70c2567cb5401eb8f5218d56df4d317ef2c_png.rf.f593e9732af842fe2e4bb3ccbeaeeb82.jpg? [y]es, [n]o, [A]ll, [N]one, [r]ename: n\n",
            "replace train/1278e2977551a324ee833d52976f22f027c5a6a1c360365e6567d2d7b318da7fd336dc23f4b90b380e260722dd84f6a6c848febfdf55f0b30ff689e4271cf5c732f02e5017b9033abb23b0e2416e4169ddbd1d1c4bea3b1ec5a8a75f9f61f56043ed924e07b5e126_png.rf.0acbaef5d8d48310c527b2563f16b77a.jpg? [y]es, [n]o, [A]ll, [N]one, [r]ename: n\n",
            "n\n",
            "n\n",
            "replace train/1278e2977551a324ee833d52976f22f027c5a6a1c360365e6567d2d7b318da7fd336dc23f4b90b380e260722dd84f6a6c848febfdf55f0b30ff689e4271cf5c732f02e5017b9033abb23b0e2416e4169ddbd1d1c4bea3b1ec5a8a75f9f61f56043ed924e07b5e126_png.rf.dbd48a1d479c5abc7a3a6a1a6ed00c6e.jpg? [y]es, [n]o, [A]ll, [N]one, [r]ename: replace train/1278e2977551a324ee833d52976f22f027c5a6a1c360365e6567d2d7b318da7fd336dc23f4b90b380e260722dd84f6a6c848febfdf55f0b30ff689e4271cf5c732f02e5017b9033abb23b0e2416e4169ddbd1d1c4bea3b1ec5a8a75f9f61f56043ed924e07b5e126_png.rf.fa87926e675dd6d83edbb4253da7a799.jpg? [y]es, [n]o, [A]ll, [N]one, [r]ename: replace train/13c8a7121c10990ca368f10e013ef4b13b6f0964bb544729aa9cf963ee4b3105949d7a3c4ff3c91d8b7fcc5f3f890e73cd72a1617530b78d1d324d439400b78f276b7794400905ee75e47801153170fff6a49ba61a442347cce84beb9a825e176dc38cf031e9c7d_png.rf.0cce01a6d3489189097833bae7a22497.jpg? [y]es, [n]o, [A]ll, [N]one, [r]ename: n\n",
            "replace train/13c8a7121c10990ca368f10e013ef4b13b6f0964bb544729aa9cf963ee4b3105949d7a3c4ff3c91d8b7fcc5f3f890e73cd72a1617530b78d1d324d439400b78f276b7794400905ee75e47801153170fff6a49ba61a442347cce84beb9a825e176dc38cf031e9c7d_png.rf.a18fdca78b47eece75f0c9df8f8c4160.jpg? [y]es, [n]o, [A]ll, [N]one, [r]ename: n\n",
            "replace train/13c8a7121c10990ca368f10e013ef4b13b6f0964bb544729aa9cf963ee4b3105949d7a3c4ff3c91d8b7fcc5f3f890e73cd72a1617530b78d1d324d439400b78f276b7794400905ee75e47801153170fff6a49ba61a442347cce84beb9a825e176dc38cf031e9c7d_png.rf.deadb14fe4c3b5c332c3bb925b853b53.jpg? [y]es, [n]o, [A]ll, [N]one, [r]ename: n\n",
            "replace train/152bf9c9b2c7dfc61adc3fe5d37dca735ddcb5153b479a759350168ee97836c863a3cc6563ed35fa8167b44fd78a6054f86b8f3618c3e2aeb1efede5e9a32e0b47012ad14778567e152dc273ea14cacb5cb678c87f112558e898f0d8d2064024_png.rf.3384360c308db45dfe462fa91bf26901.jpg? [y]es, [n]o, [A]ll, [N]one, [r]ename: n\n",
            "replace train/152bf9c9b2c7dfc61adc3fe5d37dca735ddcb5153b479a759350168ee97836c863a3cc6563ed35fa8167b44fd78a6054f86b8f3618c3e2aeb1efede5e9a32e0b47012ad14778567e152dc273ea14cacb5cb678c87f112558e898f0d8d2064024_png.rf.8015be486d657e7e501f32f051c6e335.jpg? [y]es, [n]o, [A]ll, [N]one, [r]ename: n\n",
            "replace train/152bf9c9b2c7dfc61adc3fe5d37dca735ddcb5153b479a759350168ee97836c863a3cc6563ed35fa8167b44fd78a6054f86b8f3618c3e2aeb1efede5e9a32e0b47012ad14778567e152dc273ea14cacb5cb678c87f112558e898f0d8d2064024_png.rf.a2c7233909ed0c0494fcf0180f4bc356.jpg? [y]es, [n]o, [A]ll, [N]one, [r]ename: n\n",
            "replace train/1562022bcc01b55feb7dedeee9c67dc223bffa18efc63ee5debcaf3e567846817bce0be0fd18be8e4466d48123394d7ed0f1e8075070ec18000864727674d54cde7e6b2c967d1072f1228a9dce746da2617680e4e70e7971ee441aed97de5cd347f4206cb6b24cc_png.rf.2e221cb977180d77500fc97b9f201a2d.jpg? [y]es, [n]o, [A]ll, [N]one, [r]ename: n\n",
            "replace train/1562022bcc01b55feb7dedeee9c67dc223bffa18efc63ee5debcaf3e567846817bce0be0fd18be8e4466d48123394d7ed0f1e8075070ec18000864727674d54cde7e6b2c967d1072f1228a9dce746da2617680e4e70e7971ee441aed97de5cd347f4206cb6b24cc_png.rf.582470e3826d1fd8908e749b40afccc4.jpg? [y]es, [n]o, [A]ll, [N]one, [r]ename: n\n",
            "replace train/1562022bcc01b55feb7dedeee9c67dc223bffa18efc63ee5debcaf3e567846817bce0be0fd18be8e4466d48123394d7ed0f1e8075070ec18000864727674d54cde7e6b2c967d1072f1228a9dce746da2617680e4e70e7971ee441aed97de5cd347f4206cb6b24cc_png.rf.8eb652a960a4614ffb942fa4b8c3d542.jpg? [y]es, [n]o, [A]ll, [N]one, [r]ename: n\n",
            "replace train/173972915279415e0cdd6239d619ad854f4_jpg.rf.8f233f33b2b695d6bf8284f1fa40148f.jpg? [y]es, [n]o, [A]ll, [N]one, [r]ename: n\n",
            "replace train/173972915279415e0cdd6239d619ad854f4_jpg.rf.a7b387f45218afd07134b624bbd2caaf.jpg? [y]es, [n]o, [A]ll, [N]one, [r]ename: n\n",
            "replace train/173972915279415e0cdd6239d619ad854f4_jpg.rf.d50faf43ac14b07e13efe95253c1dc8e.jpg? [y]es, [n]o, [A]ll, [N]one, [r]ename: n\n",
            "replace train/1787a4070b4f185fb573e14db03e17f2f26f13fea57403c67a604f8b4934dae4374ba150bd6c0e86b56dfb51c08419f76219ad8db45d077c5bfb2d9ec06c6eb5548d792aa6f03729204881c6d9aafc9e88de62e4ada1853271d1fe3ea212b679952ecd591804667_png.rf.34f9276f35d0bf16f49ce1dd511f1e40.jpg? [y]es, [n]o, [A]ll, [N]one, [r]ename: n\n",
            "replace train/1787a4070b4f185fb573e14db03e17f2f26f13fea57403c67a604f8b4934dae4374ba150bd6c0e86b56dfb51c08419f76219ad8db45d077c5bfb2d9ec06c6eb5548d792aa6f03729204881c6d9aafc9e88de62e4ada1853271d1fe3ea212b679952ecd591804667_png.rf.54c35156fc289c6f452106f4ed9f8f5b.jpg? [y]es, [n]o, [A]ll, [N]one, [r]ename: n\n",
            "replace train/1787a4070b4f185fb573e14db03e17f2f26f13fea57403c67a604f8b4934dae4374ba150bd6c0e86b56dfb51c08419f76219ad8db45d077c5bfb2d9ec06c6eb5548d792aa6f03729204881c6d9aafc9e88de62e4ada1853271d1fe3ea212b679952ecd591804667_png.rf.992a982f7c03990f9b54f82c3b47004f.jpg? [y]es, [n]o, [A]ll, [N]one, [r]ename: n\n",
            "replace train/17a84185f38f0f96a1a891cb947914fd827b93870845d54066fce969ca9f6a9f941898ca0bc804035782ca4a0b4e00ebe2b3d4188c04164633ee3525d421208cad4f2041fb11547ca74da6dc66d8b059516dbe13db7b348b7dd3324be2ff33ed970aebc551957909_png.rf.2ed0fe077c706250ceb54e6cd1e2a6f6.jpg? [y]es, [n]o, [A]ll, [N]one, [r]ename: n\n",
            "replace train/17a84185f38f0f96a1a891cb947914fd827b93870845d54066fce969ca9f6a9f941898ca0bc804035782ca4a0b4e00ebe2b3d4188c04164633ee3525d421208cad4f2041fb11547ca74da6dc66d8b059516dbe13db7b348b7dd3324be2ff33ed970aebc551957909_png.rf.3ec6273c5021267913d922f5efee6c46.jpg? [y]es, [n]o, [A]ll, [N]one, [r]ename: n\n",
            "replace train/17a84185f38f0f96a1a891cb947914fd827b93870845d54066fce969ca9f6a9f941898ca0bc804035782ca4a0b4e00ebe2b3d4188c04164633ee3525d421208cad4f2041fb11547ca74da6dc66d8b059516dbe13db7b348b7dd3324be2ff33ed970aebc551957909_png.rf.b5406e74aced3eb951e7e128217c2d97.jpg? [y]es, [n]o, [A]ll, [N]one, [r]ename: n\n",
            "n\n",
            "replace train/19c5790932e016853ef21f79971543a8bbfb07c17116e5ad3633704e9f6d1acf67af4e960c5cb63138e1b79c7395b3a2652cfcc4111a370d3f8be4630d968f5974e9f7c777ca24d6f782f979e91a14a3c371cb614ae850931d4b9514311e1246e5914f062a02380_png.rf.67dd7cce41cf864ad729354c2052d681.jpg? [y]es, [n]o, [A]ll, [N]one, [r]ename: replace train/19c5790932e016853ef21f79971543a8bbfb07c17116e5ad3633704e9f6d1acf67af4e960c5cb63138e1b79c7395b3a2652cfcc4111a370d3f8be4630d968f5974e9f7c777ca24d6f782f979e91a14a3c371cb614ae850931d4b9514311e1246e5914f062a02380_png.rf.b41df9264d10e9bc77c9a786d6e8d33e.jpg? [y]es, [n]o, [A]ll, [N]one, [r]ename: n\n",
            "n\n",
            "replace train/19c5790932e016853ef21f79971543a8bbfb07c17116e5ad3633704e9f6d1acf67af4e960c5cb63138e1b79c7395b3a2652cfcc4111a370d3f8be4630d968f5974e9f7c777ca24d6f782f979e91a14a3c371cb614ae850931d4b9514311e1246e5914f062a02380_png.rf.b4284ee2208c3859c527f0babe9256e8.jpg? [y]es, [n]o, [A]ll, [N]one, [r]ename: replace train/19fdbad595b6ebdce4b9af475adbab5ac597872c0af7cfed51fc253c004ad11526e7a06eaeec32c6b6a8e3ac2e795a5c08bfe585ea416384300f6c88c89461aefbb3aee141808ee2cd85a70b6fa50ed1c18dd7abedb677ba25774f4956dffc8c059a2dc10ea878e_png.rf.8ac78c6cd8ea5392fe3f7e3185f99e99.jpg? [y]es, [n]o, [A]ll, [N]one, [r]ename: n\n",
            "replace train/19fdbad595b6ebdce4b9af475adbab5ac597872c0af7cfed51fc253c004ad11526e7a06eaeec32c6b6a8e3ac2e795a5c08bfe585ea416384300f6c88c89461aefbb3aee141808ee2cd85a70b6fa50ed1c18dd7abedb677ba25774f4956dffc8c059a2dc10ea878e_png.rf.94994550e7ef20ba3498885fcfe4cce1.jpg? [y]es, [n]o, [A]ll, [N]one, [r]ename: n\n",
            "n\n",
            "replace train/19fdbad595b6ebdce4b9af475adbab5ac597872c0af7cfed51fc253c004ad11526e7a06eaeec32c6b6a8e3ac2e795a5c08bfe585ea416384300f6c88c89461aefbb3aee141808ee2cd85a70b6fa50ed1c18dd7abedb677ba25774f4956dffc8c059a2dc10ea878e_png.rf.f8a5f72eccf7e86223d85d84cea4fcb8.jpg? [y]es, [n]o, [A]ll, [N]one, [r]ename: replace train/1ad55186754f2c7a8e1a9d473f2123ad19ccbd194e92c7ee2e2180f90c5bd572ae9d090c944abd2ec27d1d331bf504d3902cdf81a70fd5997474938dc97e68408dc50bd4edaf0b52bbfbc4049da1f96d8c84faa5a42d980be1c585c9c7f9e0acc04b6f79bddd480_png.rf.7f3046e903ceb753464d071df539111c.jpg? [y]es, [n]o, [A]ll, [N]one, [r]ename: n\n",
            "replace train/1ad55186754f2c7a8e1a9d473f2123ad19ccbd194e92c7ee2e2180f90c5bd572ae9d090c944abd2ec27d1d331bf504d3902cdf81a70fd5997474938dc97e68408dc50bd4edaf0b52bbfbc4049da1f96d8c84faa5a42d980be1c585c9c7f9e0acc04b6f79bddd480_png.rf.d55ff717c0ad887ddefa7dbe2e9a3bb6.jpg? [y]es, [n]o, [A]ll, [N]one, [r]ename: n\n",
            "replace train/1ad55186754f2c7a8e1a9d473f2123ad19ccbd194e92c7ee2e2180f90c5bd572ae9d090c944abd2ec27d1d331bf504d3902cdf81a70fd5997474938dc97e68408dc50bd4edaf0b52bbfbc4049da1f96d8c84faa5a42d980be1c585c9c7f9e0acc04b6f79bddd480_png.rf.f7ce84a4f88ca5775620dbaa43704d85.jpg? [y]es, [n]o, [A]ll, [N]one, [r]ename: n\n",
            "replace train/1aec360226d5592b095cd00fef5198154dc8988474f5095b3f218d6452ab3ed6d659c91d255f48e088c0037460b25ce526544fd9fced5d1262af4fe8a8cff0c34975c869f27cfb8924bb6f2cfc809a6a6a71466ccdf8e8ec2df0bdef64e38e71e4a1574b86e436b9_png.rf.1092c6ac00cf024bfcb520a26750e707.jpg? [y]es, [n]o, [A]ll, [N]one, [r]ename: n\n",
            "replace train/1aec360226d5592b095cd00fef5198154dc8988474f5095b3f218d6452ab3ed6d659c91d255f48e088c0037460b25ce526544fd9fced5d1262af4fe8a8cff0c34975c869f27cfb8924bb6f2cfc809a6a6a71466ccdf8e8ec2df0bdef64e38e71e4a1574b86e436b9_png.rf.9a2e3af83353b3baf9c144d6742a5aad.jpg? [y]es, [n]o, [A]ll, [N]one, [r]ename: n\n",
            "replace train/1aec360226d5592b095cd00fef5198154dc8988474f5095b3f218d6452ab3ed6d659c91d255f48e088c0037460b25ce526544fd9fced5d1262af4fe8a8cff0c34975c869f27cfb8924bb6f2cfc809a6a6a71466ccdf8e8ec2df0bdef64e38e71e4a1574b86e436b9_png.rf.b0117fa81187da76318bd466eecfce52.jpg? [y]es, [n]o, [A]ll, [N]one, [r]ename: n\n",
            "replace train/1d2283e1c4e7ab3b46d521f1a33a1b1385fff6fabdbae4f9f5b24b8126efc3fe41f7b389e0f6381f56b2a5ae9ce567cd206b5615c7252890e681c09c7d6f84daa1111a84b0ecce35bff99c783e3fcda25622efa6ee08a54c6d5aff00f12e782276ef6174d0b_png.rf.0ad567bd9386d0c09c36b05375ffc29c.jpg? [y]es, [n]o, [A]ll, [N]one, [r]ename: n\n",
            "replace train/1d2283e1c4e7ab3b46d521f1a33a1b1385fff6fabdbae4f9f5b24b8126efc3fe41f7b389e0f6381f56b2a5ae9ce567cd206b5615c7252890e681c09c7d6f84daa1111a84b0ecce35bff99c783e3fcda25622efa6ee08a54c6d5aff00f12e782276ef6174d0b_png.rf.41ed477fc73727fa7d2d473b06e790da.jpg? [y]es, [n]o, [A]ll, [N]one, [r]ename: n\n",
            "replace train/1d2283e1c4e7ab3b46d521f1a33a1b1385fff6fabdbae4f9f5b24b8126efc3fe41f7b389e0f6381f56b2a5ae9ce567cd206b5615c7252890e681c09c7d6f84daa1111a84b0ecce35bff99c783e3fcda25622efa6ee08a54c6d5aff00f12e782276ef6174d0b_png.rf.8b80287788b4bf9f06b6eeec529b4018.jpg? [y]es, [n]o, [A]ll, [N]one, [r]ename: n\n",
            "n\n",
            "replace train/1d40c5f150cdfc81bc5c8640dd751fa59859b22485bd11938199cdb445b898e9c6ae98c7aa3fc7a22b03369f9ee959ab719591aaea4e5476780341fd0be1945ffad0acf1e05ac0d4a20524a199daddee83359386b91dd4f0a2f130ab8113474f_png.rf.19bfff8e4cc8993e1e33ca4d184c1715.jpg? [y]es, [n]o, [A]ll, [N]one, [r]ename: replace train/1d40c5f150cdfc81bc5c8640dd751fa59859b22485bd11938199cdb445b898e9c6ae98c7aa3fc7a22b03369f9ee959ab719591aaea4e5476780341fd0be1945ffad0acf1e05ac0d4a20524a199daddee83359386b91dd4f0a2f130ab8113474f_png.rf.478db4d0e4fecdda2492dd44535c3608.jpg? [y]es, [n]o, [A]ll, [N]one, [r]ename: n\n",
            "replace train/1d40c5f150cdfc81bc5c8640dd751fa59859b22485bd11938199cdb445b898e9c6ae98c7aa3fc7a22b03369f9ee959ab719591aaea4e5476780341fd0be1945ffad0acf1e05ac0d4a20524a199daddee83359386b91dd4f0a2f130ab8113474f_png.rf.c1fc027a6d79302b9c814fe6d892f925.jpg? [y]es, [n]o, [A]ll, [N]one, [r]ename: n\n",
            "replace train/1d7f48999aa3551be66c2772cc89ea410c7_jpg.rf.cbe1c2d8e3447251af8eab18aff8a138.jpg? [y]es, [n]o, [A]ll, [N]one, [r]ename: n\n",
            "n\n",
            "replace train/1d7f48999aa3551be66c2772cc89ea410c7_jpg.rf.e60bce4b5215cd73255ac2642a6d7024.jpg? [y]es, [n]o, [A]ll, [N]one, [r]ename: replace train/1d7f48999aa3551be66c2772cc89ea410c7_jpg.rf.f8acce81f7bc48ae1db2e8ca35efcde9.jpg? [y]es, [n]o, [A]ll, [N]one, [r]ename: n\n",
            "replace train/1eb938fff99cafcce9d55f9e49f2e60549fb29b36e504903e3ed37bfed3aeae414cfde9dce1aef65ef14229a21d426c50d55d6c7c69451ded7a0ac89e728bc30bf1474ce5329ebab68c380c68195545ecb54ed411f4aac8fb48b7f471ceda8d1ce5ddccdbdb24641_png.rf.11d2b7d75e93d4f37441157acfb5106d.jpg? [y]es, [n]o, [A]ll, [N]one, [r]ename: n\n",
            "replace train/1eb938fff99cafcce9d55f9e49f2e60549fb29b36e504903e3ed37bfed3aeae414cfde9dce1aef65ef14229a21d426c50d55d6c7c69451ded7a0ac89e728bc30bf1474ce5329ebab68c380c68195545ecb54ed411f4aac8fb48b7f471ceda8d1ce5ddccdbdb24641_png.rf.553525e9e952a185a4a88117c9bdc143.jpg? [y]es, [n]o, [A]ll, [N]one, [r]ename: n\n",
            "replace train/1eb938fff99cafcce9d55f9e49f2e60549fb29b36e504903e3ed37bfed3aeae414cfde9dce1aef65ef14229a21d426c50d55d6c7c69451ded7a0ac89e728bc30bf1474ce5329ebab68c380c68195545ecb54ed411f4aac8fb48b7f471ceda8d1ce5ddccdbdb24641_png.rf.f327202f115b59587e3ad9918ae5a965.jpg? [y]es, [n]o, [A]ll, [N]one, [r]ename: n\n",
            "replace train/1f0b5fd4a0aafd2ea3d9a419a644c1b8ee2e027363712bdc47538c00dca84acd6f6fb61a2447ff38a0c9d6a21d6aea7b91494d8e029d003ba15fc3cd9f45ae89fe0201d5d58a7088ab5eb8e145f33113a07bee5196680facbb0891b570b6c21059ec0dd8f9042708_png.rf.398abb7a9600a679af60c64fdc708e3d.jpg? [y]es, [n]o, [A]ll, [N]one, [r]ename: n\n",
            "n\n",
            "replace train/1f0b5fd4a0aafd2ea3d9a419a644c1b8ee2e027363712bdc47538c00dca84acd6f6fb61a2447ff38a0c9d6a21d6aea7b91494d8e029d003ba15fc3cd9f45ae89fe0201d5d58a7088ab5eb8e145f33113a07bee5196680facbb0891b570b6c21059ec0dd8f9042708_png.rf.c53524e38e62a2c488079f4c60557d6b.jpg? [y]es, [n]o, [A]ll, [N]one, [r]ename: replace train/1f0b5fd4a0aafd2ea3d9a419a644c1b8ee2e027363712bdc47538c00dca84acd6f6fb61a2447ff38a0c9d6a21d6aea7b91494d8e029d003ba15fc3cd9f45ae89fe0201d5d58a7088ab5eb8e145f33113a07bee5196680facbb0891b570b6c21059ec0dd8f9042708_png.rf.d583998eaee28976b1fda3b493a2c23d.jpg? [y]es, [n]o, [A]ll, [N]one, [r]ename: n\n",
            "replace train/20200112105112-62e87041-me_jpg.rf.22267efa5b4179dd5f361dc7af41f76d.jpg? [y]es, [n]o, [A]ll, [N]one, [r]ename: n\n",
            "replace train/20200112105112-62e87041-me_jpg.rf.48a8371492f1a3bc4463f60005a0c081.jpg? [y]es, [n]o, [A]ll, [N]one, [r]ename: n\n",
            "replace train/20200112105112-62e87041-me_jpg.rf.bac28baf1365d1bf09a724e7d2f9aa2f.jpg? [y]es, [n]o, [A]ll, [N]one, [r]ename: n\n",
            "replace train/20200112233558-35335e95-me_jpg.rf.5efc07956a4bad21aa9077ae878f71e0.jpg? [y]es, [n]o, [A]ll, [N]one, [r]ename: \n",
            "error:  invalid response [{ENTER}]\n",
            "replace train/20200112233558-35335e95-me_jpg.rf.5efc07956a4bad21aa9077ae878f71e0.jpg? [y]es, [n]o, [A]ll, [N]one, [r]ename: N\n",
            "Complete!\n"
          ]
        }
      ]
    },
    {
      "cell_type": "markdown",
      "source": [],
      "metadata": {
        "id": "h52kcbOpO6gE"
      }
    },
    {
      "cell_type": "code",
      "source": [
        "## 파일 종류는 jpg, png // json\n",
        "print(len(glob('/content/gdrive/MyDrive/Colab Notebooks/YOLO V5/*')))\n",
        "print(len(glob('/content/gdrive/MyDrive/Colab Notebooks/YOLO V5/*.jpg')) + len(glob('/content/gdrive/MyDrive/Colab Notebooks/YOLO V5/*.png')) + len(glob('/content/dataset/*.json'))) "
      ],
      "metadata": {
        "id": "SNCGRsS44A1i",
        "colab": {
          "base_uri": "https://localhost:8080/"
        },
        "outputId": "cc598000-3ddb-4270-b765-fdd547d7f878"
      },
      "execution_count": null,
      "outputs": [
        {
          "output_type": "stream",
          "name": "stdout",
          "text": [
            "6\n",
            "0\n"
          ]
        }
      ]
    },
    {
      "cell_type": "code",
      "source": [
        "\n",
        "train_img = []\n",
        "val_img = []\n",
        "\n",
        "\n",
        "get_file = os.listdir(f'/content/gdrive/MyDrive/Colab Notebooks/YOLO V5/train') \n",
        "for j in get_file :\n",
        "    if j.endswith('.jpg') : \n",
        "        train_img.append(j)\n",
        "\n",
        "get_file = os.listdir(f'/content/gdrive/MyDrive/Colab Notebooks/YOLO V5/valid')\n",
        "for i in get_file :\n",
        "  if i.endswith('.jpg') :\n",
        "    val_img.append(i)\n"
      ],
      "metadata": {
        "id": "jh1hbXbCuPWP"
      },
      "execution_count": null,
      "outputs": []
    },
    {
      "cell_type": "code",
      "source": [
        "print(f'Train Image 수 : {len(train_img)}')\n",
        "print(f'Valid Image 수 : {len(val_img)}')"
      ],
      "metadata": {
        "id": "CcwjYk5MjS0I",
        "colab": {
          "base_uri": "https://localhost:8080/"
        },
        "outputId": "f0dc3ec0-ed08-4c92-d58c-ae1461433bb6"
      },
      "execution_count": null,
      "outputs": [
        {
          "output_type": "stream",
          "name": "stdout",
          "text": [
            "Train Image 수 : 921\n",
            "Valid Image 수 : 98\n"
          ]
        }
      ]
    },
    {
      "cell_type": "code",
      "source": [
        "for a, b in zip(train_img, train_lab) :\n",
        "    shutil.move(f'/content/dataset/{a}', '/content/yolov5/data/images/train')\n",
        "    shutil.move(f'/content/dataset/{b}', '/content/yolov5/data/labels/train')\n",
        "\n",
        "for c,d in zip(val_img, val_lab) : \n",
        "    shutil.move(f'/content/dataset/{c}', '/content/yolov5/data/images/valid')\n",
        "    shutil.move(f'/content/dataset/{d}', '/content/yolov5/data/labels/valid')"
      ],
      "metadata": {
        "id": "bCxTXx7XjSxr"
      },
      "execution_count": null,
      "outputs": []
    },
    {
      "cell_type": "code",
      "source": [
        "train_path = list(sorted(glob('/content/gdrive/MyDrive/Colab Notebooks/YOLO V5/train/*')))\n",
        "valid_path = list(sorted(glob('/content/gdrive/MyDrive/Colab Notebooks/YOLO V5/valid/*')))\n",
        "\n",
        "train_label_path = list(sorted(glob('/content/yolov5/data/labels/train/labels/*')))\n",
        "valid_label_path = list(sorted(glob('/content/yolov5/data/labels/valid/labels/*')))"
      ],
      "metadata": {
        "id": "FYc9yypRaGFf"
      },
      "execution_count": null,
      "outputs": []
    },
    {
      "cell_type": "code",
      "source": [
        "## 짝은 잘 형성된 모습\n",
        "print(train_path[:10])\n",
        "print(train_label_path[:10])\n",
        "print('++++++++++')\n",
        "print(valid_path[:10])\n",
        "print(valid_label_path[:10])"
      ],
      "metadata": {
        "id": "s9FQi2tvwu0d",
        "colab": {
          "base_uri": "https://localhost:8080/"
        },
        "outputId": "4812d38a-d950-4106-d2a2-f75ff456115e"
      },
      "execution_count": null,
      "outputs": [
        {
          "output_type": "stream",
          "name": "stdout",
          "text": [
            "['/content/gdrive/MyDrive/Colab Notebooks/YOLO V5/train/00e8299fba5b8b9503d5ea65884cb01e9dfed3e6b9974c84a2c124bb3d3be086f7cf45dffb257a331268a67ae88b1495108c67d59c42a291f34247c0d86cd4389d8e6a09d1fb1df3605cb23eace6d984297534e1d66a583ca8cc558e4340bc8e8675851454a9a91_png.rf.24e11475ef2dca0e8056ea4c530ae899.jpg', '/content/gdrive/MyDrive/Colab Notebooks/YOLO V5/train/00e8299fba5b8b9503d5ea65884cb01e9dfed3e6b9974c84a2c124bb3d3be086f7cf45dffb257a331268a67ae88b1495108c67d59c42a291f34247c0d86cd4389d8e6a09d1fb1df3605cb23eace6d984297534e1d66a583ca8cc558e4340bc8e8675851454a9a91_png.rf.6e715e75f429221e73752c93dcadb54c.jpg', '/content/gdrive/MyDrive/Colab Notebooks/YOLO V5/train/00e8299fba5b8b9503d5ea65884cb01e9dfed3e6b9974c84a2c124bb3d3be086f7cf45dffb257a331268a67ae88b1495108c67d59c42a291f34247c0d86cd4389d8e6a09d1fb1df3605cb23eace6d984297534e1d66a583ca8cc558e4340bc8e8675851454a9a91_png.rf.f36d91bf8d584c069959db98f0c08b34.jpg', '/content/gdrive/MyDrive/Colab Notebooks/YOLO V5/train/0364acc75486f37d84a9f2de96aef47ff6b818ac39371f3b7aa70ed0cb4fe049c2d7f3ea295ae2959c90cd64e38af743e1cd627286b8bbc519c98cae531e0e16bab01ecd14cc79fff1212ba1f058129cc2c0b0caacc5bb76659494dde301f10e0acaf6f026ad_jpg.rf.00729df26a42aa89287fea8fc6aebd4f.jpg', '/content/gdrive/MyDrive/Colab Notebooks/YOLO V5/train/0364acc75486f37d84a9f2de96aef47ff6b818ac39371f3b7aa70ed0cb4fe049c2d7f3ea295ae2959c90cd64e38af743e1cd627286b8bbc519c98cae531e0e16bab01ecd14cc79fff1212ba1f058129cc2c0b0caacc5bb76659494dde301f10e0acaf6f026ad_jpg.rf.83490832a3b5856b34ab97aa04920093.jpg', '/content/gdrive/MyDrive/Colab Notebooks/YOLO V5/train/0364acc75486f37d84a9f2de96aef47ff6b818ac39371f3b7aa70ed0cb4fe049c2d7f3ea295ae2959c90cd64e38af743e1cd627286b8bbc519c98cae531e0e16bab01ecd14cc79fff1212ba1f058129cc2c0b0caacc5bb76659494dde301f10e0acaf6f026ad_jpg.rf.f5ee0e34b1a48e9e464144b25806e14b.jpg', '/content/gdrive/MyDrive/Colab Notebooks/YOLO V5/train/03dc9719605ce8c2425bc05b9c88a35001b1818e4ab4de41e8878d125404ac647ef0c8e2910d05f7c7c8de440878814ad38d7def5344c9b47f28b9828c2627473cd81c9c7ac3f9aaa03edc3e6b53429540d1d5180368141dd9e78e87567d7ac6ad61f030d0b25611_png.rf.13fbef1c91fc55bb263b94ad77f8abe3.jpg', '/content/gdrive/MyDrive/Colab Notebooks/YOLO V5/train/03dc9719605ce8c2425bc05b9c88a35001b1818e4ab4de41e8878d125404ac647ef0c8e2910d05f7c7c8de440878814ad38d7def5344c9b47f28b9828c2627473cd81c9c7ac3f9aaa03edc3e6b53429540d1d5180368141dd9e78e87567d7ac6ad61f030d0b25611_png.rf.3582dd213f0f620081621c906f54f193.jpg', '/content/gdrive/MyDrive/Colab Notebooks/YOLO V5/train/03dc9719605ce8c2425bc05b9c88a35001b1818e4ab4de41e8878d125404ac647ef0c8e2910d05f7c7c8de440878814ad38d7def5344c9b47f28b9828c2627473cd81c9c7ac3f9aaa03edc3e6b53429540d1d5180368141dd9e78e87567d7ac6ad61f030d0b25611_png.rf.da84f4445770e9c8fdf416190c485809.jpg', '/content/gdrive/MyDrive/Colab Notebooks/YOLO V5/train/05df6cf290dd4237364c6a03cb82b2ee8b2511855da096bab26223035221f2cd13931d8d6c7563eaf64910a4163ffafbbc6b2f071cd925c3a813b376f471671cb892eae3de2ae143eb9a08effe38b104c84ab44e01ba525bbf199cbb65ad2dc6f1c6a64e3feeaf4_png.rf.19c96b1e6d41f2da0424ac5160cc232d.jpg']\n",
            "[]\n",
            "++++++++++\n",
            "['/content/gdrive/MyDrive/Colab Notebooks/YOLO V5/valid/03f58a84930d7fa4d5a541cd83ec200cd991882045505362c4a0d912befad956c773249746de650e6137bd191a60a116373b60bf4c528e5ca0612cff0b1f293373f284b365a435af729fe2fcc6393d0d060855c1facae9e07cf52df61492c89682663018da9266c_png.rf.cd088d5a0e5332f7d17e020c88f3a4eb.jpg', '/content/gdrive/MyDrive/Colab Notebooks/YOLO V5/valid/041e77d7dbb9a493402d6960743cd516eb152f5367c22d23dcee2cce7eced211f212ba8eae658d11dc8c90e21bb2b8c475160ac57a9c5a6c6764f4e33a9cceea40716fc6eab6c5601e7613aa3d6e39bd87dc211a322411eacc7d1eec18c7f2a3a3d5157f4965a8f_png.rf.c0b4712d097dd6f6f5c1e6cc6a5c82a1.jpg', '/content/gdrive/MyDrive/Colab Notebooks/YOLO V5/valid/041e8e2c6cdb9aa6a4e1945ae4292907f7eae90f814c8107c6e81559da444cc7a8fed095c86181172e1ad3cbaacfad8cd776f2278c7225122941c96f1ceb3dd082a5d81049693a406193c0b376d01fb6763218ad17c3f3838581bfa1601a657d90947c21feafea6b_png.rf.76042f4b6112ae96dc47cfd9ebfb204e.jpg', '/content/gdrive/MyDrive/Colab Notebooks/YOLO V5/valid/07e4874da57801d93ea1729695f5d5f98dd7c5c62f7e0909ddc5afecbf3028e7c5e24d32717a722b0ae93e52de86a2be65806e938830e8f08f89b9da2973d359d4ac7718a1e4257e493d1b5f56e0caa87b8f0e99f4d329ea5423c5bdee8fb8658aaaea8237b76db_png.rf.991db4b2c20ba81c4c36c2c166a35acc.jpg', '/content/gdrive/MyDrive/Colab Notebooks/YOLO V5/valid/0ce698b82308322fa494bb3c7ff8b838376fd251eec0d8dd7b339600c3093febb41c4921926bffa36db8517ee78fa00b756b3d228d8748f0afca361ec93f37bece6ba01b79a904d87478a07da8a5f9328f776ffbf76c319b2b92d7a76ffa1dc3979be0273b71d21_png.rf.21f3ceff6902130c96cf0870670387c7.jpg', '/content/gdrive/MyDrive/Colab Notebooks/YOLO V5/valid/0fda42533af2d82f26ef955e7d1eb201d0bb8be33289bdcf42ad546ee71f0c3e602d76290038d21857bc2ed7f2b59e98fa2a7a074c4f870a79ed9a2f85c16f77b07922e1a23ce982a5bf87781f33b8e902b607f9da767f750adff058a9005a03c28485cedea008e_png.rf.e83c3b39a5a7b08335cc5dd70577a20b.jpg', '/content/gdrive/MyDrive/Colab Notebooks/YOLO V5/valid/119747f0209eb86f123bc8462d54865aaac563da1e475559135d9d6c9d26cc242bf725b7bfd56457ada8f8a55ff7acd70cfe6d3df358943554d678d749295ce5f3f6c345ee3bde9aba01a876b842cfaa35218e423193e67016c2a4b8da6bb380e02e765b5e4363ad_png.rf.8e6361efab06a191301f21e46c8ee351.jpg', '/content/gdrive/MyDrive/Colab Notebooks/YOLO V5/valid/129ef5f8a4a364cc64e6d774e124a683de88e699f683fb4b770cc6d140ab65532c281d2924a07477da44a7081242d7c0428b4463d4e7fda2fd8a35afaa081331f0fbf1abd73490ef920c155a5ee4207dbca05f634c83b8527501ed6a2fa30f80030fdf09aff66c48_png.rf.98ab21a6ce07158421fe23545356b1fc.jpg', '/content/gdrive/MyDrive/Colab Notebooks/YOLO V5/valid/13e0e463c29605f4e477610bd2f2a4374b8dc83e5c82742569f078795b00a157610b6879f59b78bf760fbd51baff8005ce0edc69da31855c16a15aa103ade367cbe293496714236e3fa4967b7a4492d17d0e10ec91803943886a109d9decd07b85745e4c5c20337_png.rf.0a0582c51eeb24607448896a0a9f3880.jpg', '/content/gdrive/MyDrive/Colab Notebooks/YOLO V5/valid/140921999bede2f4b430033d7bfe91d06b7cc2cb0762cfd9e1ca6edace886df1420ae8b99e3a74def72338ee09d04e9763163bd44b5dc6621d97e6009bc98d08e6ac56bfb4a445da13dd97c9e4766873edf5137ea8e28fa84aec2ef384815e80fc07cd57002ae76_png.rf.2032fa6d46bafefbbb477a1635459ad4.jpg']\n",
            "[]\n"
          ]
        }
      ]
    },
    {
      "cell_type": "code",
      "source": [
        "from google.colab import drive\n",
        "drive.mount('/content/gdrive')"
      ],
      "metadata": {
        "colab": {
          "base_uri": "https://localhost:8080/"
        },
        "id": "2v8zxt6plot1",
        "outputId": "2308fb80-9005-46cb-bb92-2da51e360326"
      },
      "execution_count": null,
      "outputs": [
        {
          "output_type": "stream",
          "name": "stdout",
          "text": [
            "Mounted at /content/gdrive\n"
          ]
        }
      ]
    },
    {
      "cell_type": "markdown",
      "source": [
        "# Image Data Directory Define"
      ],
      "metadata": {
        "id": "KFhhzUd9OrTH"
      }
    },
    {
      "cell_type": "code",
      "source": [
        "## YOLO V5 는 파일의 경로를 txt로 알려줘야 한다\n",
        "with open('/content/gdrive/MyDrive/Colab Notebooks/YOLO V5/train.txt','w') as f :\n",
        "    f.write('\\n'.join(train_path) + '\\n')\n",
        "\n",
        "with open('/content/gdrive/MyDrive/Colab Notebooks/YOLO V5/valid.txt','w') as f :\n",
        "    f.write('\\n'.join(valid_path) + '\\n')\n"
      ],
      "metadata": {
        "id": "g3EFV59ZZqgV"
      },
      "execution_count": null,
      "outputs": []
    },
    {
      "cell_type": "markdown",
      "source": [
        "# Convert Label Data from Labelme Json Format to YOLO V5 txt Format"
      ],
      "metadata": {
        "id": "tr0Z5udJO0TS"
      }
    },
    {
      "cell_type": "code",
      "source": [
        "#성윤오빠에게 받은 코드\n",
        "## class | x_center | y_center | width | height 순서\n",
        "\n",
        "## Train Data 변환 ##\n",
        "mypath = \"/content/gdrive/MyDrive/Colab Notebooks/YOLO V5/train/\"\n",
        "outpath = \"/content/gdrive/MyDrive/Colab Notebooks/YOLO V5/train/\"\n",
        "\n",
        "\n",
        "\n",
        "def convert(size, box):\n",
        "    dw = 1. / (size[0])\n",
        "    dh = 1. / (size[1])\n",
        "    x = (box[0] + box[1]) / 2.0 - 1\n",
        "    y = (box[2] + box[3]) / 2.0 - 1\n",
        "    w = box[1] - box[0]\n",
        "    h = box[3] - box[2]\n",
        "    x = x * dw\n",
        "    w = w * dw\n",
        "    y = y * dh\n",
        "    h = h * dh\n",
        "    return (x, y, w, h)\n",
        "\n",
        "json_name_list = []\n",
        "for file in os.listdir(mypath):\n",
        "    if file.endswith(\".json\"):\n",
        "        json_name_list.append(file)\n",
        "\n",
        "## Class 정의\n",
        "obj_classes = ['0','1','2', '3', '4', '5', '6', '7', '8', '9', 'bus']\n",
        "\n",
        "\n",
        "for json_file in tqdm(json_name_list) : \n",
        "\n",
        "    ## txt 파일로 바꿔줄 이름\n",
        "    txt_file_path = mypath+json_file.split('.')[0] + '.txt'\n",
        "    txt_label = open(txt_file_path, 'w')\n",
        "\n",
        "    json_obj = json.load(open(mypath+json_file, 'r', encoding='utf-8'))  ## json 파일 오픈\n",
        "    height = json_obj['height'] \n",
        "    width = json_obj['width'] ## 이미지의 높이 정보, 너비정보\n",
        "    for idx, i in enumerate(json_obj['shapes']) : \n",
        "        label = i['label']\n",
        "        if label == '1' : ## 중간에 라벨 잘못한 거 패스\n",
        "            continue\n",
        "        points = i['points']\n",
        "        if (i[\"shape_type\"] == 'rectangle'):\n",
        "            points = np.array(i[\"points\"])\n",
        "            xmin = min(points[:, 0]) if min(points[:, 0]) > 0 else 0\n",
        "            xmax = max(points[:, 0]) if max(points[:, 0]) > 0 else 0\n",
        "            ymin = min(points[:, 1]) if min(points[:, 1]) > 0 else 0\n",
        "            ymax = max(points[:, 1]) if max(points[:, 1]) > 0 else 0\n",
        "\n",
        "            ## 이상한 거 없나 체크\n",
        "            if xmax <= xmin:\n",
        "                pass\n",
        "            elif ymax <= ymin:\n",
        "                pass\n",
        "            else:\n",
        "                bbox_labelme_float   = (float(xmin), float(xmax), float(ymin), float(ymax))\n",
        "                bbox_yolo_normalized = convert((width, height), bbox_labelme_float)\n",
        "\n",
        "\n",
        "\n",
        "                ## 횡단보도 = 0 , 초록불 = 1 , 빨간불 =2            \n",
        "                class_id = obj_classes.index(label)\n",
        "\n",
        "                txt_label.write(str(class_id)+ ' ' + ' '.join([str(a) for a in bbox_yolo_normalized])+'\\n')\n",
        "\n",
        "    ## 다 썼으면 닫기\n",
        "    txt_label.close()"
      ],
      "metadata": {
        "id": "ta8mJgfHBXKd",
        "colab": {
          "base_uri": "https://localhost:8080/",
          "height": 269
        },
        "outputId": "d4d04a0e-92ef-42c9-8299-76163de689ca"
      },
      "execution_count": null,
      "outputs": [
        {
          "output_type": "stream",
          "name": "stderr",
          "text": [
            "  0%|          | 0/1 [00:00<?, ?it/s]\n"
          ]
        },
        {
          "output_type": "error",
          "ename": "KeyError",
          "evalue": "ignored",
          "traceback": [
            "\u001b[0;31m---------------------------------------------------------------------------\u001b[0m",
            "\u001b[0;31mKeyError\u001b[0m                                  Traceback (most recent call last)",
            "\u001b[0;32m<ipython-input-17-143c2022ed67>\u001b[0m in \u001b[0;36m<module>\u001b[0;34m()\u001b[0m\n\u001b[1;32m     37\u001b[0m \u001b[0;34m\u001b[0m\u001b[0m\n\u001b[1;32m     38\u001b[0m     \u001b[0mjson_obj\u001b[0m \u001b[0;34m=\u001b[0m \u001b[0mjson\u001b[0m\u001b[0;34m.\u001b[0m\u001b[0mload\u001b[0m\u001b[0;34m(\u001b[0m\u001b[0mopen\u001b[0m\u001b[0;34m(\u001b[0m\u001b[0mmypath\u001b[0m\u001b[0;34m+\u001b[0m\u001b[0mjson_file\u001b[0m\u001b[0;34m,\u001b[0m \u001b[0;34m'r'\u001b[0m\u001b[0;34m,\u001b[0m \u001b[0mencoding\u001b[0m\u001b[0;34m=\u001b[0m\u001b[0;34m'utf-8'\u001b[0m\u001b[0;34m)\u001b[0m\u001b[0;34m)\u001b[0m  \u001b[0;31m## json 파일 오픈\u001b[0m\u001b[0;34m\u001b[0m\u001b[0;34m\u001b[0m\u001b[0m\n\u001b[0;32m---> 39\u001b[0;31m     \u001b[0mheight\u001b[0m \u001b[0;34m=\u001b[0m \u001b[0mjson_obj\u001b[0m\u001b[0;34m[\u001b[0m\u001b[0;34m'height'\u001b[0m\u001b[0;34m]\u001b[0m \u001b[0;31m## image에서 i 대문자 아니고 소문자임 ㅋㅋㅋ ㅠㅠㅠㅠㅠ\u001b[0m\u001b[0;34m\u001b[0m\u001b[0;34m\u001b[0m\u001b[0m\n\u001b[0m\u001b[1;32m     40\u001b[0m     \u001b[0mwidth\u001b[0m \u001b[0;34m=\u001b[0m \u001b[0mjson_obj\u001b[0m\u001b[0;34m[\u001b[0m\u001b[0;34m'width'\u001b[0m\u001b[0;34m]\u001b[0m \u001b[0;31m## 이미지의 높이 정보, 너비정보\u001b[0m\u001b[0;34m\u001b[0m\u001b[0;34m\u001b[0m\u001b[0m\n\u001b[1;32m     41\u001b[0m     \u001b[0;32mfor\u001b[0m \u001b[0midx\u001b[0m\u001b[0;34m,\u001b[0m \u001b[0mi\u001b[0m \u001b[0;32min\u001b[0m \u001b[0menumerate\u001b[0m\u001b[0;34m(\u001b[0m\u001b[0mjson_obj\u001b[0m\u001b[0;34m[\u001b[0m\u001b[0;34m'shapes'\u001b[0m\u001b[0;34m]\u001b[0m\u001b[0;34m)\u001b[0m \u001b[0;34m:\u001b[0m\u001b[0;34m\u001b[0m\u001b[0;34m\u001b[0m\u001b[0m\n",
            "\u001b[0;31mKeyError\u001b[0m: 'height'"
          ]
        }
      ]
    },
    {
      "cell_type": "code",
      "source": [
        "## Valid Data 변환 ##\n",
        "mypath = \"/content/yolov5/data/labels/valid/\"\n",
        "outpath = \"/content/yolov5/data/labels/valid/\"\n",
        "\n",
        "\n",
        "json_name_list = []\n",
        "for file in os.listdir(mypath):\n",
        "    if file.endswith(\".json\"):\n",
        "        json_name_list.append(file)\n",
        "\n",
        "obj_classes = ['Zebra_Cross','G_Signal','R_Signal']\n",
        "\n",
        "\n",
        "for json_file in tqdm(json_name_list) : \n",
        "\n",
        "\n",
        "    txt_file_path = mypath+json_file.split('.')[0] + '.txt'\n",
        "    txt_label = open(txt_file_path, 'w') \n",
        "\n",
        "    json_obj = json.load(open(mypath+json_file, 'r', encoding='utf-8'))  ## json 파일 오픈\n",
        "    height = json_obj['imageHeight'] \n",
        "    width = json_obj['imageWidth'] ## 이미지의 높이 정보, 너비정보\n",
        "    for idx, i in enumerate(json_obj['shapes']) : \n",
        "        label = i['label']\n",
        "        if label not in obj_classes : \n",
        "            continue\n",
        "        points = i['points']\n",
        "        if (i[\"shape_type\"] == 'rectangle'):\n",
        "            points = np.array(i[\"points\"])\n",
        "            xmin = min(points[:, 0]) if min(points[:, 0]) > 0 else 0\n",
        "            xmax = max(points[:, 0]) if max(points[:, 0]) > 0 else 0\n",
        "            ymin = min(points[:, 1]) if min(points[:, 1]) > 0 else 0\n",
        "            ymax = max(points[:, 1]) if max(points[:, 1]) > 0 else 0\n",
        "\n",
        "            if xmax <= xmin:\n",
        "                pass\n",
        "            elif ymax <= ymin:\n",
        "                pass\n",
        "            else:\n",
        "                bbox_labelme_float   = (float(xmin), float(xmax), float(ymin), float(ymax))\n",
        "                bbox_yolo_normalized = convert((width, height), bbox_labelme_float)\n",
        "\n",
        "                ## 횡단보도 = 0 , 초록불 = 1 , 빨간불 =2            \n",
        "                class_id = obj_classes.index(label)\n",
        "\n",
        "                txt_label.write(str(class_id)+ ' ' + ' '.join([str(a) for a in bbox_yolo_normalized])+'\\n')\n",
        "\n",
        "    ## 다 썼으면 닫기\n",
        "    txt_label.close()\n"
      ],
      "metadata": {
        "id": "0H4s7ksW9C3r"
      },
      "execution_count": null,
      "outputs": []
    },
    {
      "cell_type": "code",
      "source": [
        "print(len(list(sorted(glob('/content/gdrive/MyDrive/Colab Notebooks/YOLO V5/train/*.jpg')))))\n",
        "print(len(list(sorted(glob('/content/gdrive/MyDrive/Colab Notebooks/YOLO V5/valid/*.jpg')))))\n",
        "\n",
        "print(len(list(sorted(glob('/content/gdrive/MyDrive/Colab Notebooks/YOLO V5/train/*.txt')))))\n",
        "print(len(list(sorted(glob('/content/gdrive/MyDrive/Colab Notebooks/YOLO V5/valid/*.txt')))))"
      ],
      "metadata": {
        "id": "ZsWLV_KSJlaW",
        "colab": {
          "base_uri": "https://localhost:8080/"
        },
        "outputId": "f08ac63d-60d7-4aa9-eea3-614594c74118"
      },
      "execution_count": null,
      "outputs": [
        {
          "output_type": "stream",
          "name": "stdout",
          "text": [
            "921\n",
            "98\n",
            "922\n",
            "98\n"
          ]
        }
      ]
    },
    {
      "cell_type": "code",
      "source": [
        "\n",
        "## Custom Dataset 용 yaml 파일 생성\n",
        "#with open('/content/yolov5/data/dataset.yaml', 'w') as f:\n",
        "\n",
        "    #f.close()\n",
        "\n",
        "\n",
        "#with open('/content/yolov5/data/dataset.yaml', 'r') as f:\n",
        "    #data = yaml.load(f) \n",
        "\n",
        "## 학습 데이터, 검증 데이터 경로 지정\n",
        "dic = {\n",
        "'train' : '/content/gdrive/MyDrive/Colab Notebooks/YOLO V5/train.txt',\n",
        "'val' : '/content/gdrive/MyDrive/Colab Notebooks/YOLO V5/valid.txt',\n",
        "\n",
        "## 클래스 수\n",
        "'nc' : 11 ,\n",
        "\n",
        "## 종류\n",
        "'names' : ['0', '1', '2', '3', '4', '5', '6', '7', '8', '9', 'bus']\n",
        "}\n",
        "\n",
        "with open('/content/gdrive/MyDrive/Colab Notebooks/YOLO V5/yolov5/data.yaml', 'w') as f :\n",
        "    yaml.dump(dic, f)\n",
        "\n",
        "\n",
        "## yolo v5 모델 가서 nc=으로 바꿔주기!\n",
        "\n",
        "\n"
      ],
      "metadata": {
        "id": "FJVMoN0njSpE"
      },
      "execution_count": null,
      "outputs": []
    },
    {
      "cell_type": "code",
      "execution_count": null,
      "metadata": {
        "id": "H3biKFXFnASN",
        "colab": {
          "base_uri": "https://localhost:8080/"
        },
        "outputId": "548e5f0e-1cd9-4e72-eb94-7bd53f8c5a21"
      },
      "outputs": [
        {
          "output_type": "stream",
          "name": "stdout",
          "text": [
            "/content/gdrive/MyDrive/Colab Notebooks/YOLO V5/yolov5\n"
          ]
        }
      ],
      "source": [
        "%cd /content/gdrive/MyDrive/Colab Notebooks/YOLO V5/yolov5"
      ]
    },
    {
      "cell_type": "markdown",
      "source": [
        "# Training"
      ],
      "metadata": {
        "id": "3KweukpynPAC"
      }
    },
    {
      "cell_type": "code",
      "source": [
        "#wandb에서 결과 확인\n",
        "!python train.py --img 640 --batch 16 --epochs 20 --data ./data.yaml --cfg ./models/yolov5s.yaml --weights yolov5s.pt --name yolo_test_first"
      ],
      "metadata": {
        "id": "7bpkQi8PceT5",
        "colab": {
          "base_uri": "https://localhost:8080/"
        },
        "outputId": "2e0704b6-16f2-4bcd-bc44-a16725c78acb"
      },
      "execution_count": null,
      "outputs": [
        {
          "output_type": "stream",
          "name": "stdout",
          "text": [
            "\u001b[34m\u001b[1mwandb\u001b[0m: (1) Create a W&B account\n",
            "\u001b[34m\u001b[1mwandb\u001b[0m: (2) Use an existing W&B account\n",
            "\u001b[34m\u001b[1mwandb\u001b[0m: (3) Don't visualize my results\n",
            "\u001b[34m\u001b[1mwandb\u001b[0m: Enter your choice: (30 second timeout) 2\n",
            "\u001b[34m\u001b[1mwandb\u001b[0m: You chose 'Use an existing W&B account'\n",
            "\u001b[34m\u001b[1mwandb\u001b[0m: Logging into wandb.ai. (Learn how to deploy a W&B server locally: https://wandb.me/wandb-server)\n",
            "\u001b[34m\u001b[1mwandb\u001b[0m: You can find your API key in your browser here: https://wandb.ai/authorize\n",
            "\u001b[34m\u001b[1mwandb\u001b[0m: Paste an API key from your profile and hit enter, or press ctrl+c to quit: \n",
            "\u001b[34m\u001b[1mwandb\u001b[0m: Appending key for api.wandb.ai to your netrc file: /root/.netrc\n",
            "\u001b[34m\u001b[1mtrain: \u001b[0mweights=yolov5s.pt, cfg=./models/yolov5s.yaml, data=./data.yaml, hyp=data/hyps/hyp.scratch-low.yaml, epochs=10, batch_size=32, imgsz=640, rect=False, resume=False, nosave=False, noval=False, noautoanchor=False, noplots=False, evolve=None, bucket=, cache=None, image_weights=False, device=, multi_scale=False, single_cls=False, optimizer=SGD, sync_bn=False, workers=8, project=runs/train, name=yolo_test_first, exist_ok=False, quad=False, cos_lr=False, label_smoothing=0.0, patience=100, freeze=[0], save_period=-1, seed=0, local_rank=-1, entity=None, upload_dataset=False, bbox_interval=-1, artifact_alias=latest\n",
            "Command 'git fetch && git config --get remote.origin.url' timed out after 5 seconds\n",
            "git: 'Notebooks/YOLO' is not a git command. See 'git --help'.\n",
            "YOLOv5 🚀 2022-7-15 Python-3.7.13 torch-1.11.0+cu102 CUDA:0 (Tesla T4, 15110MiB)\n",
            "\n",
            "\u001b[34m\u001b[1mhyperparameters: \u001b[0mlr0=0.01, lrf=0.01, momentum=0.937, weight_decay=0.0005, warmup_epochs=3.0, warmup_momentum=0.8, warmup_bias_lr=0.1, box=0.05, cls=0.5, cls_pw=1.0, obj=1.0, obj_pw=1.0, iou_t=0.2, anchor_t=4.0, fl_gamma=0.0, hsv_h=0.015, hsv_s=0.7, hsv_v=0.4, degrees=0.0, translate=0.1, scale=0.5, shear=0.0, perspective=0.0, flipud=0.0, fliplr=0.5, mosaic=1.0, mixup=0.0, copy_paste=0.0\n",
            "\u001b[34m\u001b[1mTensorBoard: \u001b[0mStart with 'tensorboard --logdir runs/train', view at http://localhost:6006/\n",
            "\u001b[34m\u001b[1mwandb\u001b[0m: Currently logged in as: \u001b[33mtomato3\u001b[0m (\u001b[33mteam_tomato\u001b[0m). Use \u001b[1m`wandb login --relogin`\u001b[0m to force relogin\n",
            "\u001b[34m\u001b[1mwandb\u001b[0m: Tracking run with wandb version 0.12.21\n",
            "\u001b[34m\u001b[1mwandb\u001b[0m: Run data is saved locally in \u001b[35m\u001b[1m/content/gdrive/MyDrive/Colab Notebooks/YOLO V5/yolov5/wandb/run-20220715_021029-2n65cbse\u001b[0m\n",
            "\u001b[34m\u001b[1mwandb\u001b[0m: Run \u001b[1m`wandb offline`\u001b[0m to turn off syncing.\n",
            "\u001b[34m\u001b[1mwandb\u001b[0m: Syncing run \u001b[33myolo_test_first\u001b[0m\n",
            "\u001b[34m\u001b[1mwandb\u001b[0m: ⭐️ View project at \u001b[34m\u001b[4mhttps://wandb.ai/team_tomato/YOLOv5\u001b[0m\n",
            "\u001b[34m\u001b[1mwandb\u001b[0m: 🚀 View run at \u001b[34m\u001b[4mhttps://wandb.ai/team_tomato/YOLOv5/runs/2n65cbse\u001b[0m\n",
            "Downloading https://ultralytics.com/assets/Arial.ttf to /root/.config/Ultralytics/Arial.ttf...\n",
            "100% 755k/755k [00:00<00:00, 66.1MB/s]\n",
            "YOLOv5 temporarily requires wandb version 0.12.10 or below. Some features may not work as expected.\n",
            "Overriding model.yaml nc=80 with nc=11\n",
            "\n",
            "                 from  n    params  module                                  arguments                     \n",
            "  0                -1  1      3520  models.common.Conv                      [3, 32, 6, 2, 2]              \n",
            "  1                -1  1     18560  models.common.Conv                      [32, 64, 3, 2]                \n",
            "  2                -1  1     18816  models.common.C3                        [64, 64, 1]                   \n",
            "  3                -1  1     73984  models.common.Conv                      [64, 128, 3, 2]               \n",
            "  4                -1  2    115712  models.common.C3                        [128, 128, 2]                 \n",
            "  5                -1  1    295424  models.common.Conv                      [128, 256, 3, 2]              \n",
            "  6                -1  3    625152  models.common.C3                        [256, 256, 3]                 \n",
            "  7                -1  1   1180672  models.common.Conv                      [256, 512, 3, 2]              \n",
            "  8                -1  1   1182720  models.common.C3                        [512, 512, 1]                 \n",
            "  9                -1  1    656896  models.common.SPPF                      [512, 512, 5]                 \n",
            " 10                -1  1    131584  models.common.Conv                      [512, 256, 1, 1]              \n",
            " 11                -1  1         0  torch.nn.modules.upsampling.Upsample    [None, 2, 'nearest']          \n",
            " 12           [-1, 6]  1         0  models.common.Concat                    [1]                           \n",
            " 13                -1  1    361984  models.common.C3                        [512, 256, 1, False]          \n",
            " 14                -1  1     33024  models.common.Conv                      [256, 128, 1, 1]              \n",
            " 15                -1  1         0  torch.nn.modules.upsampling.Upsample    [None, 2, 'nearest']          \n",
            " 16           [-1, 4]  1         0  models.common.Concat                    [1]                           \n",
            " 17                -1  1     90880  models.common.C3                        [256, 128, 1, False]          \n",
            " 18                -1  1    147712  models.common.Conv                      [128, 128, 3, 2]              \n",
            " 19          [-1, 14]  1         0  models.common.Concat                    [1]                           \n",
            " 20                -1  1    296448  models.common.C3                        [256, 256, 1, False]          \n",
            " 21                -1  1    590336  models.common.Conv                      [256, 256, 3, 2]              \n",
            " 22          [-1, 10]  1         0  models.common.Concat                    [1]                           \n",
            " 23                -1  1   1182720  models.common.C3                        [512, 512, 1, False]          \n",
            " 24      [17, 20, 23]  1     43152  models.yolo.Detect                      [11, [[10, 13, 16, 30, 33, 23], [30, 61, 62, 45, 59, 119], [116, 90, 156, 198, 373, 326]], [128, 256, 512]]\n",
            "YOLOv5s summary: 270 layers, 7049296 parameters, 7049296 gradients, 16.0 GFLOPs\n",
            "\n",
            "Transferred 342/349 items from yolov5s.pt\n",
            "\u001b[34m\u001b[1mAMP: \u001b[0mchecks passed ✅\n",
            "Scaled weight_decay = 0.0005\n",
            "\u001b[34m\u001b[1moptimizer:\u001b[0m SGD with parameter groups 57 weight (no decay), 60 weight, 60 bias\n",
            "\u001b[34m\u001b[1malbumentations: \u001b[0mversion 1.0.3 required by YOLOv5, but version 0.1.12 is currently installed\n",
            "\u001b[34m\u001b[1mtrain: \u001b[0mScanning '/content/gdrive/MyDrive/Colab Notebooks/YOLO V5/train' images and labels...921 found, 0 missing, 0 empty, 0 corrupt: 100% 921/921 [19:39<00:00,  1.28s/it]\n",
            "\u001b[34m\u001b[1mtrain: \u001b[0mNew cache created: /content/gdrive/MyDrive/Colab Notebooks/YOLO V5/train.cache\n",
            "\u001b[34m\u001b[1mval: \u001b[0mScanning '/content/gdrive/MyDrive/Colab Notebooks/YOLO V5/valid' images and labels...98 found, 0 missing, 0 empty, 0 corrupt: 100% 98/98 [02:39<00:00,  1.62s/it]\n",
            "\u001b[34m\u001b[1mval: \u001b[0mNew cache created: /content/gdrive/MyDrive/Colab Notebooks/YOLO V5/valid.cache\n",
            "Plotting labels to runs/train/yolo_test_first2/labels.jpg... \n",
            "\n",
            "\u001b[34m\u001b[1mAutoAnchor: \u001b[0m4.07 anchors/target, 1.000 Best Possible Recall (BPR). Current anchors are a good fit to dataset ✅\n",
            "Image sizes 640 train, 640 val\n",
            "Using 2 dataloader workers\n",
            "Logging results to \u001b[1mruns/train/yolo_test_first2\u001b[0m\n",
            "Starting training for 10 epochs...\n",
            "\n",
            "     Epoch   gpu_mem       box       obj       cls    labels  img_size\n",
            "       0/9     6.38G    0.1043   0.04331   0.06076       207       640: 100% 29/29 [00:30<00:00,  1.05s/it]\n",
            "               Class     Images     Labels          P          R     mAP@.5 mAP@.5:.95: 100% 2/2 [00:06<00:00,  3.30s/it]\n",
            "                 all         98        451      0.975     0.0637     0.0711     0.0323\n",
            "\n",
            "     Epoch   gpu_mem       box       obj       cls    labels  img_size\n",
            "       1/9     8.46G   0.08835   0.03677   0.04263       195       640: 100% 29/29 [00:30<00:00,  1.06s/it]\n",
            "               Class     Images     Labels          P          R     mAP@.5 mAP@.5:.95: 100% 2/2 [00:06<00:00,  3.32s/it]\n",
            "                 all         98        451      0.958     0.0657      0.066     0.0274\n",
            "\n",
            "     Epoch   gpu_mem       box       obj       cls    labels  img_size\n",
            "       2/9     8.46G   0.08749   0.02888   0.03947       164       640: 100% 29/29 [00:28<00:00,  1.03it/s]\n",
            "               Class     Images     Labels          P          R     mAP@.5 mAP@.5:.95: 100% 2/2 [00:06<00:00,  3.35s/it]\n",
            "                 all         98        451      0.974     0.0697     0.0826     0.0415\n",
            "\n",
            "     Epoch   gpu_mem       box       obj       cls    labels  img_size\n",
            "       3/9     8.46G   0.07278   0.02738   0.03875       192       640: 100% 29/29 [00:28<00:00,  1.03it/s]\n",
            "               Class     Images     Labels          P          R     mAP@.5 mAP@.5:.95: 100% 2/2 [00:06<00:00,  3.15s/it]\n",
            "                 all         98        451      0.259      0.253      0.117      0.051\n",
            "\n",
            "     Epoch   gpu_mem       box       obj       cls    labels  img_size\n",
            "       4/9     8.46G     0.064   0.02407   0.03703       193       640: 100% 29/29 [00:27<00:00,  1.04it/s]\n",
            "               Class     Images     Labels          P          R     mAP@.5 mAP@.5:.95: 100% 2/2 [00:06<00:00,  3.25s/it]\n",
            "                 all         98        451       0.28      0.261      0.152      0.056\n",
            "\n",
            "     Epoch   gpu_mem       box       obj       cls    labels  img_size\n",
            "       5/9     8.46G   0.05515    0.0227   0.03685       203       640: 100% 29/29 [00:28<00:00,  1.01it/s]\n",
            "               Class     Images     Labels          P          R     mAP@.5 mAP@.5:.95: 100% 2/2 [00:06<00:00,  3.10s/it]\n",
            "                 all         98        451      0.441      0.364      0.212      0.112\n",
            "\n",
            "     Epoch   gpu_mem       box       obj       cls    labels  img_size\n",
            "       6/9     8.46G   0.04991   0.02151   0.03645       174       640: 100% 29/29 [00:27<00:00,  1.04it/s]\n",
            "               Class     Images     Labels          P          R     mAP@.5 mAP@.5:.95: 100% 2/2 [00:06<00:00,  3.07s/it]\n",
            "                 all         98        451      0.437      0.352      0.259      0.123\n",
            "\n",
            "     Epoch   gpu_mem       box       obj       cls    labels  img_size\n",
            "       7/9     8.46G   0.04707   0.02059   0.03611       191       640: 100% 29/29 [00:27<00:00,  1.05it/s]\n",
            "               Class     Images     Labels          P          R     mAP@.5 mAP@.5:.95: 100% 2/2 [00:06<00:00,  3.20s/it]\n",
            "                 all         98        451      0.346      0.363      0.253      0.153\n",
            "\n",
            "     Epoch   gpu_mem       box       obj       cls    labels  img_size\n",
            "       8/9     8.46G   0.04355   0.02011   0.03566       204       640: 100% 29/29 [00:29<00:00,  1.03s/it]\n",
            "               Class     Images     Labels          P          R     mAP@.5 mAP@.5:.95: 100% 2/2 [00:06<00:00,  3.22s/it]\n",
            "                 all         98        451      0.351      0.421      0.288      0.187\n",
            "\n",
            "     Epoch   gpu_mem       box       obj       cls    labels  img_size\n",
            "       9/9     8.46G   0.04151   0.01923   0.03485       177       640: 100% 29/29 [00:27<00:00,  1.04it/s]\n",
            "               Class     Images     Labels          P          R     mAP@.5 mAP@.5:.95: 100% 2/2 [00:06<00:00,  3.11s/it]\n",
            "                 all         98        451      0.388      0.349      0.282      0.179\n",
            "\n",
            "10 epochs completed in 0.105 hours.\n",
            "Optimizer stripped from runs/train/yolo_test_first2/weights/last.pt, 14.5MB\n",
            "Optimizer stripped from runs/train/yolo_test_first2/weights/best.pt, 14.5MB\n",
            "\n",
            "Validating runs/train/yolo_test_first2/weights/best.pt...\n",
            "Fusing layers... \n",
            "YOLOv5s summary: 213 layers, 7039792 parameters, 0 gradients, 15.8 GFLOPs\n",
            "               Class     Images     Labels          P          R     mAP@.5 mAP@.5:.95: 100% 2/2 [00:05<00:00,  2.96s/it]\n",
            "                 all         98        451      0.351      0.421      0.288      0.187\n",
            "                   0         98         42      0.172      0.786      0.252      0.152\n",
            "                   1         98         91      0.212      0.813       0.67      0.325\n",
            "                   2         98         28      0.169      0.429      0.279      0.185\n",
            "                   3         98         29      0.094      0.069      0.158     0.0832\n",
            "                   4         98         42     0.0929     0.0476      0.119     0.0665\n",
            "                   5         98         23     0.0815       0.13     0.0779     0.0406\n",
            "                   6         98         27      0.173      0.741      0.332      0.219\n",
            "                   7         98         44      0.114      0.659      0.167      0.101\n",
            "                   8         98          7          1          0     0.0624     0.0371\n",
            "                   9         98         11          1          0     0.0925       0.05\n",
            "                 bus         98        107       0.75      0.953      0.954      0.796\n",
            "Results saved to \u001b[1mruns/train/yolo_test_first2\u001b[0m\n",
            "\u001b[34m\u001b[1mwandb\u001b[0m: Waiting for W&B process to finish... \u001b[32m(success).\u001b[0m\n",
            "\u001b[34m\u001b[1mwandb\u001b[0m:                                                                                \n",
            "\u001b[34m\u001b[1mwandb\u001b[0m: \n",
            "\u001b[34m\u001b[1mwandb\u001b[0m: Run history:\n",
            "\u001b[34m\u001b[1mwandb\u001b[0m:      metrics/mAP_0.5 ▁▁▂▃▄▆▇▇███\n",
            "\u001b[34m\u001b[1mwandb\u001b[0m: metrics/mAP_0.5:0.95 ▁▁▂▂▂▅▅▇███\n",
            "\u001b[34m\u001b[1mwandb\u001b[0m:    metrics/precision ███▁▁▃▃▂▂▂▂\n",
            "\u001b[34m\u001b[1mwandb\u001b[0m:       metrics/recall ▁▁▁▅▅▇▇▇█▇█\n",
            "\u001b[34m\u001b[1mwandb\u001b[0m:       train/box_loss █▆▆▄▄▃▂▂▁▁\n",
            "\u001b[34m\u001b[1mwandb\u001b[0m:       train/cls_loss █▃▂▂▂▂▁▁▁▁\n",
            "\u001b[34m\u001b[1mwandb\u001b[0m:       train/obj_loss █▆▄▃▂▂▂▁▁▁\n",
            "\u001b[34m\u001b[1mwandb\u001b[0m:         val/box_loss ▆█▇▄▄▂▃▁▁▁▁\n",
            "\u001b[34m\u001b[1mwandb\u001b[0m:         val/cls_loss █▆▄▃▃▂▂▂▁▁▁\n",
            "\u001b[34m\u001b[1mwandb\u001b[0m:         val/obj_loss █▃▂▃▂▂▁▁▁▁▁\n",
            "\u001b[34m\u001b[1mwandb\u001b[0m:                x/lr0 █▅▃▁▁▁▁▁▁▁\n",
            "\u001b[34m\u001b[1mwandb\u001b[0m:                x/lr1 ▂▅███▇▅▄▂▁\n",
            "\u001b[34m\u001b[1mwandb\u001b[0m:                x/lr2 ▂▅███▇▅▄▂▁\n",
            "\u001b[34m\u001b[1mwandb\u001b[0m: \n",
            "\u001b[34m\u001b[1mwandb\u001b[0m: Run summary:\n",
            "\u001b[34m\u001b[1mwandb\u001b[0m:           best/epoch 8\n",
            "\u001b[34m\u001b[1mwandb\u001b[0m:         best/mAP_0.5 0.28773\n",
            "\u001b[34m\u001b[1mwandb\u001b[0m:    best/mAP_0.5:0.95 0.18704\n",
            "\u001b[34m\u001b[1mwandb\u001b[0m:       best/precision 0.35076\n",
            "\u001b[34m\u001b[1mwandb\u001b[0m:          best/recall 0.42069\n",
            "\u001b[34m\u001b[1mwandb\u001b[0m:      metrics/mAP_0.5 0.28767\n",
            "\u001b[34m\u001b[1mwandb\u001b[0m: metrics/mAP_0.5:0.95 0.18681\n",
            "\u001b[34m\u001b[1mwandb\u001b[0m:    metrics/precision 0.35088\n",
            "\u001b[34m\u001b[1mwandb\u001b[0m:       metrics/recall 0.42069\n",
            "\u001b[34m\u001b[1mwandb\u001b[0m:       train/box_loss 0.04151\n",
            "\u001b[34m\u001b[1mwandb\u001b[0m:       train/cls_loss 0.03485\n",
            "\u001b[34m\u001b[1mwandb\u001b[0m:       train/obj_loss 0.01923\n",
            "\u001b[34m\u001b[1mwandb\u001b[0m:         val/box_loss 0.04032\n",
            "\u001b[34m\u001b[1mwandb\u001b[0m:         val/cls_loss 0.03808\n",
            "\u001b[34m\u001b[1mwandb\u001b[0m:         val/obj_loss 0.01114\n",
            "\u001b[34m\u001b[1mwandb\u001b[0m:                x/lr0 0.00208\n",
            "\u001b[34m\u001b[1mwandb\u001b[0m:                x/lr1 0.00208\n",
            "\u001b[34m\u001b[1mwandb\u001b[0m:                x/lr2 0.00208\n",
            "\u001b[34m\u001b[1mwandb\u001b[0m: \n",
            "\u001b[34m\u001b[1mwandb\u001b[0m: Synced \u001b[33myolo_test_first\u001b[0m: \u001b[34m\u001b[4mhttps://wandb.ai/team_tomato/YOLOv5/runs/2n65cbse\u001b[0m\n",
            "\u001b[34m\u001b[1mwandb\u001b[0m: Synced 5 W&B file(s), 335 media file(s), 1 artifact file(s) and 0 other file(s)\n",
            "\u001b[34m\u001b[1mwandb\u001b[0m: Find logs at: \u001b[35m\u001b[1m./wandb/run-20220715_021029-2n65cbse/logs\u001b[0m\n"
          ]
        }
      ]
    },
    {
      "cell_type": "markdown",
      "source": [
        "# Inference YouTube Video"
      ],
      "metadata": {
        "id": "iKBY-H0snTIZ"
      }
    },
    {
      "cell_type": "code",
      "source": [
        "\n",
        "!python detect.py --weights /content/yolov5/runs/train/yolo_test_first/weights/best.pt --img 640 --conf 0.5 --source \"https://www.youtube.com/watch?v=VVl6chJ_xIo\"\n"
      ],
      "metadata": {
        "id": "PMtjDhjlXNYI",
        "colab": {
          "base_uri": "https://localhost:8080/"
        },
        "outputId": "49958f74-17cc-4d8c-d72d-e41eaca36a64"
      },
      "execution_count": null,
      "outputs": [
        {
          "output_type": "stream",
          "name": "stdout",
          "text": [
            "\u001b[34m\u001b[1mdetect: \u001b[0mweights=['/content/yolov5/runs/train/yolo_test_first/weights/best.pt'], source=https://www.youtube.com/watch?v=VVl6chJ_xIo, data=data/coco128.yaml, imgsz=[640, 640], conf_thres=0.5, iou_thres=0.45, max_det=1000, device=, view_img=False, save_txt=False, save_conf=False, save_crop=False, nosave=False, classes=None, agnostic_nms=False, augment=False, visualize=False, update=False, project=runs/detect, name=exp, exist_ok=False, line_thickness=3, hide_labels=False, hide_conf=False, half=False, dnn=False\n",
            "git: 'Notebooks/YOLO' is not a git command. See 'git --help'.\n",
            "YOLOv5 🚀 2022-7-15 Python-3.7.13 torch-1.11.0+cu102 CUDA:0 (Tesla T4, 15110MiB)\n",
            "\n",
            "Traceback (most recent call last):\n",
            "  File \"detect.py\", line 256, in <module>\n",
            "    main(opt)\n",
            "  File \"detect.py\", line 251, in main\n",
            "    run(**vars(opt))\n",
            "  File \"/usr/local/lib/python3.7/dist-packages/torch/autograd/grad_mode.py\", line 27, in decorate_context\n",
            "    return func(*args, **kwargs)\n",
            "  File \"detect.py\", line 92, in run\n",
            "    model = DetectMultiBackend(weights, device=device, dnn=dnn, data=data, fp16=half)\n",
            "  File \"/content/gdrive/MyDrive/Colab Notebooks/YOLO V5/yolov5/models/common.py\", line 334, in __init__\n",
            "    model = attempt_load(weights if isinstance(weights, list) else w, device=device)\n",
            "  File \"/content/gdrive/MyDrive/Colab Notebooks/YOLO V5/yolov5/models/experimental.py\", line 80, in attempt_load\n",
            "    ckpt = torch.load(attempt_download(w), map_location='cpu')  # load\n",
            "  File \"/usr/local/lib/python3.7/dist-packages/torch/serialization.py\", line 699, in load\n",
            "    with _open_file_like(f, 'rb') as opened_file:\n",
            "  File \"/usr/local/lib/python3.7/dist-packages/torch/serialization.py\", line 231, in _open_file_like\n",
            "    return _open_file(name_or_buffer, mode)\n",
            "  File \"/usr/local/lib/python3.7/dist-packages/torch/serialization.py\", line 212, in __init__\n",
            "    super(_open_file, self).__init__(open(name, mode))\n",
            "FileNotFoundError: [Errno 2] No such file or directory: '/content/yolov5/runs/train/yolo_test_first/weights/best.pt'\n"
          ]
        }
      ]
    },
    {
      "cell_type": "code",
      "source": [
        "!python detect.py --weights /content/yolov5/runs/train/yolo_test_first/weights/best.pt --img 640 --conf 0.5 --source \"https://www.youtube.com/watch?v=p6fN5swYYL8\""
      ],
      "metadata": {
        "id": "8aX8Ny2QhAsi",
        "colab": {
          "base_uri": "https://localhost:8080/"
        },
        "outputId": "72b42dd2-6d89-4225-f1c2-d19bbd0b9d6f"
      },
      "execution_count": null,
      "outputs": [
        {
          "output_type": "stream",
          "name": "stdout",
          "text": [
            "\u001b[34m\u001b[1mdetect: \u001b[0mweights=['/content/yolov5/runs/train/yolo_test_first/weights/best.pt'], source=https://www.youtube.com/watch?v=p6fN5swYYL8, data=data/coco128.yaml, imgsz=[640, 640], conf_thres=0.5, iou_thres=0.45, max_det=1000, device=, view_img=False, save_txt=False, save_conf=False, save_crop=False, nosave=False, classes=None, agnostic_nms=False, augment=False, visualize=False, update=False, project=runs/detect, name=exp, exist_ok=False, line_thickness=3, hide_labels=False, hide_conf=False, half=False, dnn=False\n",
            "git: 'Notebooks/YOLO' is not a git command. See 'git --help'.\n",
            "YOLOv5 🚀 2022-7-15 Python-3.7.13 torch-1.11.0+cu102 CUDA:0 (Tesla T4, 15110MiB)\n",
            "\n",
            "Traceback (most recent call last):\n",
            "  File \"detect.py\", line 256, in <module>\n",
            "    main(opt)\n",
            "  File \"detect.py\", line 251, in main\n",
            "    run(**vars(opt))\n",
            "  File \"/usr/local/lib/python3.7/dist-packages/torch/autograd/grad_mode.py\", line 27, in decorate_context\n",
            "    return func(*args, **kwargs)\n",
            "  File \"detect.py\", line 92, in run\n",
            "    model = DetectMultiBackend(weights, device=device, dnn=dnn, data=data, fp16=half)\n",
            "  File \"/content/gdrive/MyDrive/Colab Notebooks/YOLO V5/yolov5/models/common.py\", line 334, in __init__\n",
            "    model = attempt_load(weights if isinstance(weights, list) else w, device=device)\n",
            "  File \"/content/gdrive/MyDrive/Colab Notebooks/YOLO V5/yolov5/models/experimental.py\", line 80, in attempt_load\n",
            "    ckpt = torch.load(attempt_download(w), map_location='cpu')  # load\n",
            "  File \"/usr/local/lib/python3.7/dist-packages/torch/serialization.py\", line 699, in load\n",
            "    with _open_file_like(f, 'rb') as opened_file:\n",
            "  File \"/usr/local/lib/python3.7/dist-packages/torch/serialization.py\", line 231, in _open_file_like\n",
            "    return _open_file(name_or_buffer, mode)\n",
            "  File \"/usr/local/lib/python3.7/dist-packages/torch/serialization.py\", line 212, in __init__\n",
            "    super(_open_file, self).__init__(open(name, mode))\n",
            "FileNotFoundError: [Errno 2] No such file or directory: '/content/yolov5/runs/train/yolo_test_first/weights/best.pt'\n"
          ]
        }
      ]
    },
    {
      "cell_type": "code",
      "source": [],
      "metadata": {
        "id": "CoUXVBYDulrG"
      },
      "execution_count": null,
      "outputs": []
    }
  ]
}